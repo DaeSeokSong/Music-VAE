{
  "nbformat": 4,
  "nbformat_minor": 0,
  "metadata": {
    "colab": {
      "name": "MVAE_assignment_v0.ipynb",
      "provenance": [],
      "collapsed_sections": [],
      "toc_visible": true,
      "authorship_tag": "ABX9TyNgmxM1M8SipFd+wAFxwtXM",
      "include_colab_link": true
    },
    "kernelspec": {
      "name": "python3",
      "display_name": "Python 3"
    },
    "language_info": {
      "name": "python"
    },
    "accelerator": "GPU",
    "gpuClass": "standard"
  },
  "cells": [
    {
      "cell_type": "markdown",
      "metadata": {
        "id": "view-in-github",
        "colab_type": "text"
      },
      "source": [
        "<a href=\"https://colab.research.google.com/github/DaeSeokSong/Music-VAE/blob/master/MVAE_assignment_v0.ipynb\" target=\"_parent\"><img src=\"https://colab.research.google.com/assets/colab-badge.svg\" alt=\"Open In Colab\"/></a>"
      ]
    },
    {
      "cell_type": "markdown",
      "source": [
        "# Environment Setup"
      ],
      "metadata": {
        "id": "6u9Hf5NQWOaO"
      }
    },
    {
      "cell_type": "markdown",
      "source": [
        "## install"
      ],
      "metadata": {
        "id": "XthHeiXlMZWU"
      }
    },
    {
      "cell_type": "code",
      "source": [
        "print('Installing dependencies...')\n",
        "!apt-get update -qq && apt-get install -qq libfluidsynth1 fluid-soundfont-gm build-essential libasound2-dev libjack-dev\n",
        "!pip install -q pyfluidsynth\n",
        "!pip install -qU magenta\n",
        "\n",
        "print('Loading model checkpoints')\n",
        "!gsutil -q -m cp gs://magentadata/models/music_vae/checkpoints/* ."
      ],
      "metadata": {
        "colab": {
          "base_uri": "https://localhost:8080/"
        },
        "id": "q4teFxpPMa5v",
        "outputId": "ee971ded-2a0f-4b6d-8300-87288a2c9b44"
      },
      "execution_count": 1,
      "outputs": [
        {
          "output_type": "stream",
          "name": "stdout",
          "text": [
            "Installing dependencies...\n",
            "Selecting previously unselected package fluid-soundfont-gm.\n",
            "(Reading database ... 155680 files and directories currently installed.)\n",
            "Preparing to unpack .../fluid-soundfont-gm_3.1-5.1_all.deb ...\n",
            "Unpacking fluid-soundfont-gm (3.1-5.1) ...\n",
            "Selecting previously unselected package libfluidsynth1:amd64.\n",
            "Preparing to unpack .../libfluidsynth1_1.1.9-1_amd64.deb ...\n",
            "Unpacking libfluidsynth1:amd64 (1.1.9-1) ...\n",
            "Setting up fluid-soundfont-gm (3.1-5.1) ...\n",
            "Setting up libfluidsynth1:amd64 (1.1.9-1) ...\n",
            "Processing triggers for libc-bin (2.27-3ubuntu1.5) ...\n",
            "\u001b[K     |████████████████████████████████| 1.4 MB 3.2 MB/s \n",
            "\u001b[K     |████████████████████████████████| 13.5 MB 24.7 MB/s \n",
            "\u001b[K     |████████████████████████████████| 3.6 MB 5.7 MB/s \n",
            "\u001b[K     |████████████████████████████████| 69 kB 7.2 MB/s \n",
            "\u001b[K     |████████████████████████████████| 210 kB 71.6 MB/s \n",
            "\u001b[K     |████████████████████████████████| 3.1 MB 51.1 MB/s \n",
            "\u001b[K     |████████████████████████████████| 90 kB 9.5 MB/s \n",
            "\u001b[K     |████████████████████████████████| 6.5 MB 44.1 MB/s \n",
            "\u001b[K     |████████████████████████████████| 352 kB 62.1 MB/s \n",
            "\u001b[K     |████████████████████████████████| 254 kB 77.0 MB/s \n",
            "\u001b[K     |████████████████████████████████| 2.3 MB 54.8 MB/s \n",
            "\u001b[K     |████████████████████████████████| 5.6 MB 31.3 MB/s \n",
            "\u001b[K     |████████████████████████████████| 511.7 MB 6.0 kB/s \n",
            "\u001b[K     |████████████████████████████████| 3.4 MB 57.9 MB/s \n",
            "\u001b[K     |████████████████████████████████| 11.2 MB 51.3 MB/s \n",
            "\u001b[K     |████████████████████████████████| 204 kB 74.4 MB/s \n",
            "\u001b[K     |████████████████████████████████| 1.6 MB 57.3 MB/s \n",
            "\u001b[K     |████████████████████████████████| 944 kB 62.9 MB/s \n",
            "\u001b[K     |████████████████████████████████| 20.2 MB 1.2 MB/s \n",
            "\u001b[K     |████████████████████████████████| 1.6 MB 47.6 MB/s \n",
            "\u001b[K     |████████████████████████████████| 438 kB 61.8 MB/s \n",
            "\u001b[K     |████████████████████████████████| 5.8 MB 49.9 MB/s \n",
            "\u001b[?25h  Building wheel for librosa (setup.py) ... \u001b[?25l\u001b[?25hdone\n",
            "  Building wheel for mir-eval (setup.py) ... \u001b[?25l\u001b[?25hdone\n",
            "  Building wheel for pretty-midi (setup.py) ... \u001b[?25l\u001b[?25hdone\n",
            "  Building wheel for pygtrie (setup.py) ... \u001b[?25l\u001b[?25hdone\n",
            "  Building wheel for python-rtmidi (setup.py) ... \u001b[?25l\u001b[?25hdone\n",
            "Loading model checkpoints\n"
          ]
        }
      ]
    },
    {
      "cell_type": "markdown",
      "source": [
        "## Import"
      ],
      "metadata": {
        "id": "GyEbcZfEMrvi"
      }
    },
    {
      "cell_type": "code",
      "execution_count": 2,
      "metadata": {
        "colab": {
          "base_uri": "https://localhost:8080/"
        },
        "id": "o7aKUR8zVe1v",
        "outputId": "0860425a-a6b6-4c44-9646-747a73d1df84"
      },
      "outputs": [
        {
          "output_type": "stream",
          "name": "stdout",
          "text": [
            "Importing libraries and defining some helper functions...\n"
          ]
        },
        {
          "output_type": "stream",
          "name": "stderr",
          "text": [
            "/usr/local/lib/python3.7/dist-packages/librosa/util/decorators.py:9: NumbaDeprecationWarning: An import was requested from a module that has moved location.\n",
            "Import requested from: 'numba.decorators', please update to use 'numba.core.decorators' or pin to Numba version 0.48.0. This alias will not be present in Numba version 0.50.0.\n",
            "  from numba.decorators import jit as optional_jit\n",
            "/usr/local/lib/python3.7/dist-packages/librosa/util/decorators.py:9: NumbaDeprecationWarning: An import was requested from a module that has moved location.\n",
            "Import of 'jit' requested from: 'numba.decorators', please update to use 'numba.core.decorators' or pin to Numba version 0.48.0. This alias will not be present in Numba version 0.50.0.\n",
            "  from numba.decorators import jit as optional_jit\n",
            "/usr/local/lib/python3.7/dist-packages/resampy/interpn.py:114: NumbaWarning: The TBB threading layer requires TBB version 2019.5 or later i.e., TBB_INTERFACE_VERSION >= 11005. Found TBB_INTERFACE_VERSION = 9107. The TBB threading layer is disabled.\n",
            "  _resample_loop_p(x, t_out, interp_win, interp_delta, num_table, scale, y)\n"
          ]
        },
        {
          "output_type": "stream",
          "name": "stdout",
          "text": [
            "WARNING:tensorflow:From /usr/local/lib/python3.7/dist-packages/tensorflow/python/compat/v2_compat.py:107: disable_resource_variables (from tensorflow.python.ops.variable_scope) is deprecated and will be removed in a future version.\n",
            "Instructions for updating:\n",
            "non-resource variables are not supported in the long term\n"
          ]
        }
      ],
      "source": [
        "import glob\n",
        "\n",
        "# Hack to allow python to pick up the newly-installed fluidsynth lib.\n",
        "# This is only needed for the hosted Colab environment.\n",
        "import ctypes.util\n",
        "orig_ctypes_util_find_library = ctypes.util.find_library\n",
        "def proxy_find_library(lib):\n",
        "    if lib == 'fluidsynth':\n",
        "        return 'libfluidsynth.so.1'\n",
        "    else:\n",
        "        return orig_ctypes_util_find_library(lib)\n",
        "ctypes.util.find_library = proxy_find_library\n",
        "\n",
        "print('Importing libraries and defining some helper functions...')\n",
        "from google.colab import files\n",
        "\n",
        "import magenta.music as mm\n",
        "from magenta.models.music_vae import configs\n",
        "from magenta.models.music_vae.trained_model import TrainedModel\n",
        "\n",
        "import note_seq\n",
        "\n",
        "import numpy as np\n",
        "import os\n",
        "import tensorflow.compat.v1 as tf\n",
        "\n",
        "tf.disable_v2_behavior()\n",
        "\n",
        "# Necessary until pyfluidsynth is updated (>1.2.5).\n",
        "import warnings\n",
        "warnings.filterwarnings(\"ignore\", category=DeprecationWarning)"
      ]
    },
    {
      "cell_type": "markdown",
      "source": [
        "## Funtion"
      ],
      "metadata": {
        "id": "mcbs9GGZMjej"
      }
    },
    {
      "cell_type": "code",
      "source": [
        "def play(note_sequence):\n",
        "    mm.play_sequence(note_sequence, synth=mm.fluidsynth)\n",
        "\n",
        "def interpolate(model, start_seq, end_seq, num_steps, max_length=32,\n",
        "                assert_same_length=True, temperature=0.5,\n",
        "                individual_duration=4.0):\n",
        "    \"\"\"Interpolates between a start and end sequence.\"\"\"\n",
        "    note_sequences = model.interpolate(\n",
        "        start_seq, end_seq,num_steps=num_steps, length=max_length,\n",
        "        temperature=temperature,\n",
        "        assert_same_length=assert_same_length)\n",
        "\n",
        "    print('Start Seq Reconstruction')\n",
        "    play(note_sequences[0])\n",
        "\n",
        "    print('End Seq Reconstruction')\n",
        "    play(note_sequences[-1])\n",
        "\n",
        "    print('Mean Sequence')\n",
        "    play(note_sequences[num_steps // 2])\n",
        "\n",
        "    print('Start -> End Interpolation')\n",
        "    interp_seq = mm.sequences_lib.concatenate_sequences(\n",
        "        note_sequences, [individual_duration] * len(note_sequences))\n",
        "    \n",
        "    play(interp_seq)\n",
        "    mm.plot_sequence(interp_seq)\n",
        "\n",
        "    return interp_seq if num_steps > 3 else note_sequences[num_steps // 2]\n",
        "\n",
        "def download(note_sequence, filename):\n",
        "    mm.sequence_proto_to_midi_file(note_sequence, filename)\n",
        "    files.download(filename)\n",
        "\n",
        "print('Done')"
      ],
      "metadata": {
        "colab": {
          "base_uri": "https://localhost:8080/"
        },
        "id": "1xXZ5erjMk0T",
        "outputId": "9499ff67-39d4-43d3-b52c-441cf90cb793"
      },
      "execution_count": 3,
      "outputs": [
        {
          "output_type": "stream",
          "name": "stdout",
          "text": [
            "Done\n"
          ]
        }
      ]
    },
    {
      "cell_type": "markdown",
      "source": [
        "# Extract 4-bar drum sample"
      ],
      "metadata": {
        "id": "jGKlj9nf2k1z"
      }
    },
    {
      "cell_type": "markdown",
      "source": [
        "## Grobal variable"
      ],
      "metadata": {
        "id": "xvvZmpNywUkI"
      }
    },
    {
      "cell_type": "code",
      "source": [
        "PRETRAINED_GROOVAE_4BAR = 'groovae_4bar.tar'"
      ],
      "metadata": {
        "id": "BpjmJKCmweNn"
      },
      "execution_count": 4,
      "outputs": []
    },
    {
      "cell_type": "markdown",
      "source": [
        "## Model"
      ],
      "metadata": {
        "id": "fIDyLd1jWTbT"
      }
    },
    {
      "cell_type": "markdown",
      "source": [
        "### Load Pretrained Model"
      ],
      "metadata": {
        "id": "yc_xRDhSGi0a"
      }
    },
    {
      "cell_type": "code",
      "source": [
        "# Groove\n",
        "# 4-bar\n",
        "groovae_4bar_config = configs.CONFIG_MAP['groovae_4bar']\n",
        "drums_model = TrainedModel(\n",
        "    groovae_4bar_config, \n",
        "    batch_size=4, \n",
        "    checkpoint_dir_or_path=PRETRAINED_GROOVAE_4BAR\n",
        "    )"
      ],
      "metadata": {
        "colab": {
          "base_uri": "https://localhost:8080/"
        },
        "id": "_ksbvZMPWaps",
        "outputId": "aea24955-9e5e-47b8-8c16-395e8ff3e2e3"
      },
      "execution_count": 17,
      "outputs": [
        {
          "output_type": "stream",
          "name": "stdout",
          "text": [
            "INFO:tensorflow:Building MusicVAE model with BidirectionalLstmEncoder, GrooveLstmDecoder, and hparams:\n",
            "{'max_seq_len': 64, 'z_size': 256, 'free_bits': 48, 'max_beta': 0.2, 'beta_rate': 0.0, 'batch_size': 4, 'grad_clip': 1.0, 'clip_mode': 'global_norm', 'grad_norm_clip_to_zero': 10000, 'learning_rate': 0.001, 'decay_rate': 0.9999, 'min_learning_rate': 1e-05, 'conditional': True, 'dec_rnn_size': [256, 256], 'enc_rnn_size': [512], 'dropout_keep_prob': 0.3, 'sampling_schedule': 'constant', 'sampling_rate': 0.0, 'use_cudnn': False, 'residual_encoder': False, 'residual_decoder': False, 'control_preprocessing_rnn_size': [256]}\n"
          ]
        },
        {
          "output_type": "stream",
          "name": "stderr",
          "text": [
            "INFO:tensorflow:Building MusicVAE model with BidirectionalLstmEncoder, GrooveLstmDecoder, and hparams:\n",
            "{'max_seq_len': 64, 'z_size': 256, 'free_bits': 48, 'max_beta': 0.2, 'beta_rate': 0.0, 'batch_size': 4, 'grad_clip': 1.0, 'clip_mode': 'global_norm', 'grad_norm_clip_to_zero': 10000, 'learning_rate': 0.001, 'decay_rate': 0.9999, 'min_learning_rate': 1e-05, 'conditional': True, 'dec_rnn_size': [256, 256], 'enc_rnn_size': [512], 'dropout_keep_prob': 0.3, 'sampling_schedule': 'constant', 'sampling_rate': 0.0, 'use_cudnn': False, 'residual_encoder': False, 'residual_decoder': False, 'control_preprocessing_rnn_size': [256]}\n"
          ]
        },
        {
          "output_type": "stream",
          "name": "stdout",
          "text": [
            "INFO:tensorflow:\n",
            "Encoder Cells (bidirectional):\n",
            "  units: [512]\n",
            "\n"
          ]
        },
        {
          "output_type": "stream",
          "name": "stderr",
          "text": [
            "INFO:tensorflow:\n",
            "Encoder Cells (bidirectional):\n",
            "  units: [512]\n",
            "\n"
          ]
        },
        {
          "output_type": "stream",
          "name": "stdout",
          "text": [
            "WARNING:tensorflow:`tf.nn.rnn_cell.MultiRNNCell` is deprecated. This class is equivalent as `tf.keras.layers.StackedRNNCells`, and will be replaced by that in Tensorflow 2.0.\n"
          ]
        },
        {
          "output_type": "stream",
          "name": "stderr",
          "text": [
            "WARNING:tensorflow:`tf.nn.rnn_cell.MultiRNNCell` is deprecated. This class is equivalent as `tf.keras.layers.StackedRNNCells`, and will be replaced by that in Tensorflow 2.0.\n"
          ]
        },
        {
          "output_type": "stream",
          "name": "stdout",
          "text": [
            "WARNING:tensorflow:`tf.nn.rnn_cell.MultiRNNCell` is deprecated. This class is equivalent as `tf.keras.layers.StackedRNNCells`, and will be replaced by that in Tensorflow 2.0.\n"
          ]
        },
        {
          "output_type": "stream",
          "name": "stderr",
          "text": [
            "WARNING:tensorflow:`tf.nn.rnn_cell.MultiRNNCell` is deprecated. This class is equivalent as `tf.keras.layers.StackedRNNCells`, and will be replaced by that in Tensorflow 2.0.\n"
          ]
        },
        {
          "output_type": "stream",
          "name": "stdout",
          "text": [
            "INFO:tensorflow:\n",
            "Decoder Cells:\n",
            "  units: [256, 256]\n",
            "\n"
          ]
        },
        {
          "output_type": "stream",
          "name": "stderr",
          "text": [
            "INFO:tensorflow:\n",
            "Decoder Cells:\n",
            "  units: [256, 256]\n",
            "\n"
          ]
        },
        {
          "output_type": "stream",
          "name": "stdout",
          "text": [
            "WARNING:tensorflow:`tf.nn.rnn_cell.MultiRNNCell` is deprecated. This class is equivalent as `tf.keras.layers.StackedRNNCells`, and will be replaced by that in Tensorflow 2.0.\n"
          ]
        },
        {
          "output_type": "stream",
          "name": "stderr",
          "text": [
            "WARNING:tensorflow:`tf.nn.rnn_cell.MultiRNNCell` is deprecated. This class is equivalent as `tf.keras.layers.StackedRNNCells`, and will be replaced by that in Tensorflow 2.0.\n",
            "/usr/local/lib/python3.7/dist-packages/magenta/models/music_vae/lstm_utils.py:99: UserWarning: `tf.layers.dense` is deprecated and will be removed in a future version. Please use `tf.keras.layers.Dense` instead.\n",
            "  name=name),\n",
            "/usr/local/lib/python3.7/dist-packages/magenta/contrib/rnn.py:750: UserWarning: `layer.add_variable` is deprecated and will be removed in a future version. Please use the `layer.add_weight()` method instead.\n",
            "  self._names[\"W\"], [input_size + self._num_units, self._num_units * 4])\n",
            "/usr/local/lib/python3.7/dist-packages/magenta/contrib/rnn.py:753: UserWarning: `layer.add_variable` is deprecated and will be removed in a future version. Please use the `layer.add_weight()` method instead.\n",
            "  initializer=tf.constant_initializer(0.0))\n"
          ]
        },
        {
          "output_type": "stream",
          "name": "stdout",
          "text": [
            "INFO:tensorflow:Unbundling checkpoint.\n"
          ]
        },
        {
          "output_type": "stream",
          "name": "stderr",
          "text": [
            "/usr/local/lib/python3.7/dist-packages/magenta/models/music_vae/base_model.py:199: UserWarning: `tf.layers.dense` is deprecated and will be removed in a future version. Please use `tf.keras.layers.Dense` instead.\n",
            "  kernel_initializer=tf.random_normal_initializer(stddev=0.001))\n",
            "/usr/local/lib/python3.7/dist-packages/magenta/models/music_vae/base_model.py:205: UserWarning: `tf.layers.dense` is deprecated and will be removed in a future version. Please use `tf.keras.layers.Dense` instead.\n",
            "  kernel_initializer=tf.random_normal_initializer(stddev=0.001))\n",
            "INFO:tensorflow:Unbundling checkpoint.\n"
          ]
        },
        {
          "output_type": "stream",
          "name": "stdout",
          "text": [
            "INFO:tensorflow:Restoring parameters from /tmp/tmp_jo7qatb/groovae_4bar/model.ckpt-2721\n"
          ]
        },
        {
          "output_type": "stream",
          "name": "stderr",
          "text": [
            "INFO:tensorflow:Restoring parameters from /tmp/tmp_jo7qatb/groovae_4bar/model.ckpt-2721\n"
          ]
        }
      ]
    },
    {
      "cell_type": "markdown",
      "source": [
        "### Generate samples as many as sample_num"
      ],
      "metadata": {
        "id": "9Qr4ecL5IDuh"
      }
    },
    {
      "cell_type": "code",
      "source": [
        "temperature = 1 #@param {type:\"slider\", min:0.1, max:1.5, step:0.1}\n",
        "sample_num = 4 #@param {type:\"slider\", min:1, max:4, step:1}\n",
        "drums_samples = drums_model.sample(\n",
        "    n=sample_num, \n",
        "    length=32, \n",
        "    temperature=temperature\n",
        "    )\n",
        "\n",
        "for idx, ns in enumerate(drums_samples):\n",
        "    print(\"Beat \", idx)\n",
        "\n",
        "    note_seq.plot_sequence(ns)\n",
        "    play(ns)\n",
        "    \n",
        "    print('\\n\\n')"
      ],
      "metadata": {
        "colab": {
          "base_uri": "https://localhost:8080/",
          "height": 1000
        },
        "id": "uEo2p6qzWfdn",
        "outputId": "5e2b1f26-7538-4054-8e82-ada283bfd3ce"
      },
      "execution_count": 20,
      "outputs": [
        {
          "output_type": "stream",
          "name": "stdout",
          "text": [
            "Beat  0\n"
          ]
        },
        {
          "output_type": "display_data",
          "data": {
            "application/javascript": [
              "\n",
              "(function(root) {\n",
              "  function now() {\n",
              "    return new Date();\n",
              "  }\n",
              "\n",
              "  var force = true;\n",
              "\n",
              "  if (typeof root._bokeh_onload_callbacks === \"undefined\" || force === true) {\n",
              "    root._bokeh_onload_callbacks = [];\n",
              "    root._bokeh_is_loading = undefined;\n",
              "  }\n",
              "\n",
              "  var JS_MIME_TYPE = 'application/javascript';\n",
              "  var HTML_MIME_TYPE = 'text/html';\n",
              "  var EXEC_MIME_TYPE = 'application/vnd.bokehjs_exec.v0+json';\n",
              "  var CLASS_NAME = 'output_bokeh rendered_html';\n",
              "\n",
              "  /**\n",
              "   * Render data to the DOM node\n",
              "   */\n",
              "  function render(props, node) {\n",
              "    var script = document.createElement(\"script\");\n",
              "    node.appendChild(script);\n",
              "  }\n",
              "\n",
              "  /**\n",
              "   * Handle when an output is cleared or removed\n",
              "   */\n",
              "  function handleClearOutput(event, handle) {\n",
              "    var cell = handle.cell;\n",
              "\n",
              "    var id = cell.output_area._bokeh_element_id;\n",
              "    var server_id = cell.output_area._bokeh_server_id;\n",
              "    // Clean up Bokeh references\n",
              "    if (id != null && id in Bokeh.index) {\n",
              "      Bokeh.index[id].model.document.clear();\n",
              "      delete Bokeh.index[id];\n",
              "    }\n",
              "\n",
              "    if (server_id !== undefined) {\n",
              "      // Clean up Bokeh references\n",
              "      var cmd = \"from bokeh.io.state import curstate; print(curstate().uuid_to_server['\" + server_id + \"'].get_sessions()[0].document.roots[0]._id)\";\n",
              "      cell.notebook.kernel.execute(cmd, {\n",
              "        iopub: {\n",
              "          output: function(msg) {\n",
              "            var id = msg.content.text.trim();\n",
              "            if (id in Bokeh.index) {\n",
              "              Bokeh.index[id].model.document.clear();\n",
              "              delete Bokeh.index[id];\n",
              "            }\n",
              "          }\n",
              "        }\n",
              "      });\n",
              "      // Destroy server and session\n",
              "      var cmd = \"import bokeh.io.notebook as ion; ion.destroy_server('\" + server_id + \"')\";\n",
              "      cell.notebook.kernel.execute(cmd);\n",
              "    }\n",
              "  }\n",
              "\n",
              "  /**\n",
              "   * Handle when a new output is added\n",
              "   */\n",
              "  function handleAddOutput(event, handle) {\n",
              "    var output_area = handle.output_area;\n",
              "    var output = handle.output;\n",
              "\n",
              "    // limit handleAddOutput to display_data with EXEC_MIME_TYPE content only\n",
              "    if ((output.output_type != \"display_data\") || (!Object.prototype.hasOwnProperty.call(output.data, EXEC_MIME_TYPE))) {\n",
              "      return\n",
              "    }\n",
              "\n",
              "    var toinsert = output_area.element.find(\".\" + CLASS_NAME.split(' ')[0]);\n",
              "\n",
              "    if (output.metadata[EXEC_MIME_TYPE][\"id\"] !== undefined) {\n",
              "      toinsert[toinsert.length - 1].firstChild.textContent = output.data[JS_MIME_TYPE];\n",
              "      // store reference to embed id on output_area\n",
              "      output_area._bokeh_element_id = output.metadata[EXEC_MIME_TYPE][\"id\"];\n",
              "    }\n",
              "    if (output.metadata[EXEC_MIME_TYPE][\"server_id\"] !== undefined) {\n",
              "      var bk_div = document.createElement(\"div\");\n",
              "      bk_div.innerHTML = output.data[HTML_MIME_TYPE];\n",
              "      var script_attrs = bk_div.children[0].attributes;\n",
              "      for (var i = 0; i < script_attrs.length; i++) {\n",
              "        toinsert[toinsert.length - 1].firstChild.setAttribute(script_attrs[i].name, script_attrs[i].value);\n",
              "        toinsert[toinsert.length - 1].firstChild.textContent = bk_div.children[0].textContent\n",
              "      }\n",
              "      // store reference to server id on output_area\n",
              "      output_area._bokeh_server_id = output.metadata[EXEC_MIME_TYPE][\"server_id\"];\n",
              "    }\n",
              "  }\n",
              "\n",
              "  function register_renderer(events, OutputArea) {\n",
              "\n",
              "    function append_mime(data, metadata, element) {\n",
              "      // create a DOM node to render to\n",
              "      var toinsert = this.create_output_subarea(\n",
              "        metadata,\n",
              "        CLASS_NAME,\n",
              "        EXEC_MIME_TYPE\n",
              "      );\n",
              "      this.keyboard_manager.register_events(toinsert);\n",
              "      // Render to node\n",
              "      var props = {data: data, metadata: metadata[EXEC_MIME_TYPE]};\n",
              "      render(props, toinsert[toinsert.length - 1]);\n",
              "      element.append(toinsert);\n",
              "      return toinsert\n",
              "    }\n",
              "\n",
              "    /* Handle when an output is cleared or removed */\n",
              "    events.on('clear_output.CodeCell', handleClearOutput);\n",
              "    events.on('delete.Cell', handleClearOutput);\n",
              "\n",
              "    /* Handle when a new output is added */\n",
              "    events.on('output_added.OutputArea', handleAddOutput);\n",
              "\n",
              "    /**\n",
              "     * Register the mime type and append_mime function with output_area\n",
              "     */\n",
              "    OutputArea.prototype.register_mime_type(EXEC_MIME_TYPE, append_mime, {\n",
              "      /* Is output safe? */\n",
              "      safe: true,\n",
              "      /* Index of renderer in `output_area.display_order` */\n",
              "      index: 0\n",
              "    });\n",
              "  }\n",
              "\n",
              "  // register the mime type if in Jupyter Notebook environment and previously unregistered\n",
              "  if (root.Jupyter !== undefined) {\n",
              "    var events = require('base/js/events');\n",
              "    var OutputArea = require('notebook/js/outputarea').OutputArea;\n",
              "\n",
              "    if (OutputArea.prototype.mime_types().indexOf(EXEC_MIME_TYPE) == -1) {\n",
              "      register_renderer(events, OutputArea);\n",
              "    }\n",
              "  }\n",
              "\n",
              "  \n",
              "  if (typeof (root._bokeh_timeout) === \"undefined\" || force === true) {\n",
              "    root._bokeh_timeout = Date.now() + 5000;\n",
              "    root._bokeh_failed_load = false;\n",
              "  }\n",
              "\n",
              "  var NB_LOAD_WARNING = {'data': {'text/html':\n",
              "     \"<div style='background-color: #fdd'>\\n\"+\n",
              "     \"<p>\\n\"+\n",
              "     \"BokehJS does not appear to have successfully loaded. If loading BokehJS from CDN, this \\n\"+\n",
              "     \"may be due to a slow or bad network connection. Possible fixes:\\n\"+\n",
              "     \"</p>\\n\"+\n",
              "     \"<ul>\\n\"+\n",
              "     \"<li>re-rerun `output_notebook()` to attempt to load from CDN again, or</li>\\n\"+\n",
              "     \"<li>use INLINE resources instead, as so:</li>\\n\"+\n",
              "     \"</ul>\\n\"+\n",
              "     \"<code>\\n\"+\n",
              "     \"from bokeh.resources import INLINE\\n\"+\n",
              "     \"output_notebook(resources=INLINE)\\n\"+\n",
              "     \"</code>\\n\"+\n",
              "     \"</div>\"}};\n",
              "\n",
              "  function display_loaded() {\n",
              "    var el = document.getElementById(null);\n",
              "    if (el != null) {\n",
              "      el.textContent = \"BokehJS is loading...\";\n",
              "    }\n",
              "    if (root.Bokeh !== undefined) {\n",
              "      if (el != null) {\n",
              "        el.textContent = \"BokehJS \" + root.Bokeh.version + \" successfully loaded.\";\n",
              "      }\n",
              "    } else if (Date.now() < root._bokeh_timeout) {\n",
              "      setTimeout(display_loaded, 100)\n",
              "    }\n",
              "  }\n",
              "\n",
              "\n",
              "  function run_callbacks() {\n",
              "    try {\n",
              "      root._bokeh_onload_callbacks.forEach(function(callback) {\n",
              "        if (callback != null)\n",
              "          callback();\n",
              "      });\n",
              "    } finally {\n",
              "      delete root._bokeh_onload_callbacks\n",
              "    }\n",
              "    console.debug(\"Bokeh: all callbacks have finished\");\n",
              "  }\n",
              "\n",
              "  function load_libs(css_urls, js_urls, callback) {\n",
              "    if (css_urls == null) css_urls = [];\n",
              "    if (js_urls == null) js_urls = [];\n",
              "\n",
              "    root._bokeh_onload_callbacks.push(callback);\n",
              "    if (root._bokeh_is_loading > 0) {\n",
              "      console.debug(\"Bokeh: BokehJS is being loaded, scheduling callback at\", now());\n",
              "      return null;\n",
              "    }\n",
              "    if (js_urls == null || js_urls.length === 0) {\n",
              "      run_callbacks();\n",
              "      return null;\n",
              "    }\n",
              "    console.debug(\"Bokeh: BokehJS not loaded, scheduling load and callback at\", now());\n",
              "    root._bokeh_is_loading = css_urls.length + js_urls.length;\n",
              "\n",
              "    function on_load() {\n",
              "      root._bokeh_is_loading--;\n",
              "      if (root._bokeh_is_loading === 0) {\n",
              "        console.debug(\"Bokeh: all BokehJS libraries/stylesheets loaded\");\n",
              "        run_callbacks()\n",
              "      }\n",
              "    }\n",
              "\n",
              "    function on_error(url) {\n",
              "      console.error(\"failed to load \" + url);\n",
              "    }\n",
              "\n",
              "    for (let i = 0; i < css_urls.length; i++) {\n",
              "      const url = css_urls[i];\n",
              "      const element = document.createElement(\"link\");\n",
              "      element.onload = on_load;\n",
              "      element.onerror = on_error.bind(null, url);\n",
              "      element.rel = \"stylesheet\";\n",
              "      element.type = \"text/css\";\n",
              "      element.href = url;\n",
              "      console.debug(\"Bokeh: injecting link tag for BokehJS stylesheet: \", url);\n",
              "      document.body.appendChild(element);\n",
              "    }\n",
              "\n",
              "    const hashes = {\"https://cdn.bokeh.org/bokeh/release/bokeh-2.3.3.min.js\": \"dM3QQsP+wXdHg42wTqW85BjZQdLNNIXqlPw/BgKoExPmTG7ZLML4EGqLMfqHT6ON\", \"https://cdn.bokeh.org/bokeh/release/bokeh-tables-2.3.3.min.js\": \"8x57I4YuIfu8XyZfFo0XVr2WAT8EK4rh/uDe3wF7YuW2FNUSNEpJbsPaB1nJ2fz2\", \"https://cdn.bokeh.org/bokeh/release/bokeh-widgets-2.3.3.min.js\": \"3QTqdz9LyAm2i0sG5XTePsHec3UHWwVsrOL68SYRoAXsafvfAyqtQ+h440+qIBhS\"};\n",
              "\n",
              "    for (let i = 0; i < js_urls.length; i++) {\n",
              "      const url = js_urls[i];\n",
              "      const element = document.createElement('script');\n",
              "      element.onload = on_load;\n",
              "      element.onerror = on_error.bind(null, url);\n",
              "      element.async = false;\n",
              "      element.src = url;\n",
              "      if (url in hashes) {\n",
              "        element.crossOrigin = \"anonymous\";\n",
              "        element.integrity = \"sha384-\" + hashes[url];\n",
              "      }\n",
              "      console.debug(\"Bokeh: injecting script tag for BokehJS library: \", url);\n",
              "      document.head.appendChild(element);\n",
              "    }\n",
              "  };\n",
              "\n",
              "  function inject_raw_css(css) {\n",
              "    const element = document.createElement(\"style\");\n",
              "    element.appendChild(document.createTextNode(css));\n",
              "    document.body.appendChild(element);\n",
              "  }\n",
              "\n",
              "  \n",
              "  var js_urls = [\"https://cdn.bokeh.org/bokeh/release/bokeh-2.3.3.min.js\", \"https://cdn.bokeh.org/bokeh/release/bokeh-widgets-2.3.3.min.js\", \"https://cdn.bokeh.org/bokeh/release/bokeh-tables-2.3.3.min.js\"];\n",
              "  var css_urls = [];\n",
              "  \n",
              "\n",
              "  var inline_js = [\n",
              "    function(Bokeh) {\n",
              "      Bokeh.set_log_level(\"info\");\n",
              "    },\n",
              "    function(Bokeh) {\n",
              "    \n",
              "    \n",
              "    }\n",
              "  ];\n",
              "\n",
              "  function run_inline_js() {\n",
              "    \n",
              "    if (root.Bokeh !== undefined || force === true) {\n",
              "      \n",
              "    for (var i = 0; i < inline_js.length; i++) {\n",
              "      inline_js[i].call(root, root.Bokeh);\n",
              "    }\n",
              "    } else if (Date.now() < root._bokeh_timeout) {\n",
              "      setTimeout(run_inline_js, 100);\n",
              "    } else if (!root._bokeh_failed_load) {\n",
              "      console.log(\"Bokeh: BokehJS failed to load within specified timeout.\");\n",
              "      root._bokeh_failed_load = true;\n",
              "    } else if (force !== true) {\n",
              "      var cell = $(document.getElementById(null)).parents('.cell').data().cell;\n",
              "      cell.output_area.append_execute_result(NB_LOAD_WARNING)\n",
              "    }\n",
              "\n",
              "  }\n",
              "\n",
              "  if (root._bokeh_is_loading === 0) {\n",
              "    console.debug(\"Bokeh: BokehJS loaded, going straight to plotting\");\n",
              "    run_inline_js();\n",
              "  } else {\n",
              "    load_libs(css_urls, js_urls, function() {\n",
              "      console.debug(\"Bokeh: BokehJS plotting callback run at\", now());\n",
              "      run_inline_js();\n",
              "    });\n",
              "  }\n",
              "}(window));"
            ],
            "application/vnd.bokehjs_load.v0+json": "\n(function(root) {\n  function now() {\n    return new Date();\n  }\n\n  var force = true;\n\n  if (typeof root._bokeh_onload_callbacks === \"undefined\" || force === true) {\n    root._bokeh_onload_callbacks = [];\n    root._bokeh_is_loading = undefined;\n  }\n\n  \n\n  \n  if (typeof (root._bokeh_timeout) === \"undefined\" || force === true) {\n    root._bokeh_timeout = Date.now() + 5000;\n    root._bokeh_failed_load = false;\n  }\n\n  var NB_LOAD_WARNING = {'data': {'text/html':\n     \"<div style='background-color: #fdd'>\\n\"+\n     \"<p>\\n\"+\n     \"BokehJS does not appear to have successfully loaded. If loading BokehJS from CDN, this \\n\"+\n     \"may be due to a slow or bad network connection. Possible fixes:\\n\"+\n     \"</p>\\n\"+\n     \"<ul>\\n\"+\n     \"<li>re-rerun `output_notebook()` to attempt to load from CDN again, or</li>\\n\"+\n     \"<li>use INLINE resources instead, as so:</li>\\n\"+\n     \"</ul>\\n\"+\n     \"<code>\\n\"+\n     \"from bokeh.resources import INLINE\\n\"+\n     \"output_notebook(resources=INLINE)\\n\"+\n     \"</code>\\n\"+\n     \"</div>\"}};\n\n  function display_loaded() {\n    var el = document.getElementById(null);\n    if (el != null) {\n      el.textContent = \"BokehJS is loading...\";\n    }\n    if (root.Bokeh !== undefined) {\n      if (el != null) {\n        el.textContent = \"BokehJS \" + root.Bokeh.version + \" successfully loaded.\";\n      }\n    } else if (Date.now() < root._bokeh_timeout) {\n      setTimeout(display_loaded, 100)\n    }\n  }\n\n\n  function run_callbacks() {\n    try {\n      root._bokeh_onload_callbacks.forEach(function(callback) {\n        if (callback != null)\n          callback();\n      });\n    } finally {\n      delete root._bokeh_onload_callbacks\n    }\n    console.debug(\"Bokeh: all callbacks have finished\");\n  }\n\n  function load_libs(css_urls, js_urls, callback) {\n    if (css_urls == null) css_urls = [];\n    if (js_urls == null) js_urls = [];\n\n    root._bokeh_onload_callbacks.push(callback);\n    if (root._bokeh_is_loading > 0) {\n      console.debug(\"Bokeh: BokehJS is being loaded, scheduling callback at\", now());\n      return null;\n    }\n    if (js_urls == null || js_urls.length === 0) {\n      run_callbacks();\n      return null;\n    }\n    console.debug(\"Bokeh: BokehJS not loaded, scheduling load and callback at\", now());\n    root._bokeh_is_loading = css_urls.length + js_urls.length;\n\n    function on_load() {\n      root._bokeh_is_loading--;\n      if (root._bokeh_is_loading === 0) {\n        console.debug(\"Bokeh: all BokehJS libraries/stylesheets loaded\");\n        run_callbacks()\n      }\n    }\n\n    function on_error(url) {\n      console.error(\"failed to load \" + url);\n    }\n\n    for (let i = 0; i < css_urls.length; i++) {\n      const url = css_urls[i];\n      const element = document.createElement(\"link\");\n      element.onload = on_load;\n      element.onerror = on_error.bind(null, url);\n      element.rel = \"stylesheet\";\n      element.type = \"text/css\";\n      element.href = url;\n      console.debug(\"Bokeh: injecting link tag for BokehJS stylesheet: \", url);\n      document.body.appendChild(element);\n    }\n\n    const hashes = {\"https://cdn.bokeh.org/bokeh/release/bokeh-2.3.3.min.js\": \"dM3QQsP+wXdHg42wTqW85BjZQdLNNIXqlPw/BgKoExPmTG7ZLML4EGqLMfqHT6ON\", \"https://cdn.bokeh.org/bokeh/release/bokeh-tables-2.3.3.min.js\": \"8x57I4YuIfu8XyZfFo0XVr2WAT8EK4rh/uDe3wF7YuW2FNUSNEpJbsPaB1nJ2fz2\", \"https://cdn.bokeh.org/bokeh/release/bokeh-widgets-2.3.3.min.js\": \"3QTqdz9LyAm2i0sG5XTePsHec3UHWwVsrOL68SYRoAXsafvfAyqtQ+h440+qIBhS\"};\n\n    for (let i = 0; i < js_urls.length; i++) {\n      const url = js_urls[i];\n      const element = document.createElement('script');\n      element.onload = on_load;\n      element.onerror = on_error.bind(null, url);\n      element.async = false;\n      element.src = url;\n      if (url in hashes) {\n        element.crossOrigin = \"anonymous\";\n        element.integrity = \"sha384-\" + hashes[url];\n      }\n      console.debug(\"Bokeh: injecting script tag for BokehJS library: \", url);\n      document.head.appendChild(element);\n    }\n  };\n\n  function inject_raw_css(css) {\n    const element = document.createElement(\"style\");\n    element.appendChild(document.createTextNode(css));\n    document.body.appendChild(element);\n  }\n\n  \n  var js_urls = [\"https://cdn.bokeh.org/bokeh/release/bokeh-2.3.3.min.js\", \"https://cdn.bokeh.org/bokeh/release/bokeh-widgets-2.3.3.min.js\", \"https://cdn.bokeh.org/bokeh/release/bokeh-tables-2.3.3.min.js\"];\n  var css_urls = [];\n  \n\n  var inline_js = [\n    function(Bokeh) {\n      Bokeh.set_log_level(\"info\");\n    },\n    function(Bokeh) {\n    \n    \n    }\n  ];\n\n  function run_inline_js() {\n    \n    if (root.Bokeh !== undefined || force === true) {\n      \n    for (var i = 0; i < inline_js.length; i++) {\n      inline_js[i].call(root, root.Bokeh);\n    }\n    } else if (Date.now() < root._bokeh_timeout) {\n      setTimeout(run_inline_js, 100);\n    } else if (!root._bokeh_failed_load) {\n      console.log(\"Bokeh: BokehJS failed to load within specified timeout.\");\n      root._bokeh_failed_load = true;\n    } else if (force !== true) {\n      var cell = $(document.getElementById(null)).parents('.cell').data().cell;\n      cell.output_area.append_execute_result(NB_LOAD_WARNING)\n    }\n\n  }\n\n  if (root._bokeh_is_loading === 0) {\n    console.debug(\"Bokeh: BokehJS loaded, going straight to plotting\");\n    run_inline_js();\n  } else {\n    load_libs(css_urls, js_urls, function() {\n      console.debug(\"Bokeh: BokehJS plotting callback run at\", now());\n      run_inline_js();\n    });\n  }\n}(window));"
          },
          "metadata": {}
        },
        {
          "output_type": "display_data",
          "data": {
            "text/html": [
              "\n",
              "\n",
              "\n",
              "\n",
              "\n",
              "\n",
              "  <div class=\"bk-root\" id=\"fabc47cc-e01c-487a-8583-c726597c6fbb\" data-root-id=\"3186\"></div>\n"
            ]
          },
          "metadata": {}
        },
        {
          "output_type": "display_data",
          "data": {
            "application/javascript": [
              "(function(root) {\n",
              "  function embed_document(root) {\n",
              "    \n",
              "  var docs_json = {\"dc4ab1f2-9408-44cf-a605-2f5256ddd058\":{\"defs\":[],\"roots\":{\"references\":[{\"attributes\":{\"below\":[{\"id\":\"3195\"}],\"center\":[{\"id\":\"3198\"},{\"id\":\"3202\"}],\"height\":200,\"left\":[{\"id\":\"3199\"}],\"renderers\":[{\"id\":\"3222\"}],\"title\":{\"id\":\"3225\"},\"toolbar\":{\"id\":\"3209\"},\"width\":500,\"x_range\":{\"id\":\"3187\"},\"x_scale\":{\"id\":\"3191\"},\"y_range\":{\"id\":\"3189\"},\"y_scale\":{\"id\":\"3193\"}},\"id\":\"3186\",\"subtype\":\"Figure\",\"type\":\"Plot\"},{\"attributes\":{},\"id\":\"3207\",\"type\":\"SaveTool\"},{\"attributes\":{},\"id\":\"3196\",\"type\":\"BasicTicker\"},{\"attributes\":{\"interval\":12},\"id\":\"3217\",\"type\":\"SingleIntervalTicker\"},{\"attributes\":{},\"id\":\"3204\",\"type\":\"PanTool\"},{\"attributes\":{\"overlay\":{\"id\":\"3208\"}},\"id\":\"3205\",\"type\":\"BoxZoomTool\"},{\"attributes\":{},\"id\":\"3187\",\"type\":\"DataRange1d\"},{\"attributes\":{\"callback\":null,\"tooltips\":[[\"pitch\",\"@pitch\"],[\"program\",\"@program\"],[\"velo\",\"@velocity\"],[\"duration\",\"@duration\"],[\"start_time\",\"@start_time\"],[\"end_time\",\"@end_time\"],[\"velocity\",\"@velocity\"],[\"fill_alpha\",\"@fill_alpha\"]]},\"id\":\"3203\",\"type\":\"HoverTool\"},{\"attributes\":{\"bottom_units\":\"screen\",\"fill_alpha\":0.5,\"fill_color\":\"lightgrey\",\"left_units\":\"screen\",\"level\":\"overlay\",\"line_alpha\":1.0,\"line_color\":\"black\",\"line_dash\":[4,4],\"line_width\":2,\"right_units\":\"screen\",\"syncable\":false,\"top_units\":\"screen\"},\"id\":\"3208\",\"type\":\"BoxAnnotation\"},{\"attributes\":{},\"id\":\"3233\",\"type\":\"UnionRenderers\"},{\"attributes\":{\"active_multi\":null,\"tools\":[{\"id\":\"3203\"},{\"id\":\"3204\"},{\"id\":\"3205\"},{\"id\":\"3206\"},{\"id\":\"3207\"}]},\"id\":\"3209\",\"type\":\"Toolbar\"},{\"attributes\":{},\"id\":\"3232\",\"type\":\"Selection\"},{\"attributes\":{\"bottom\":{\"field\":\"bottom\"},\"fill_alpha\":{\"field\":\"fill_alpha\"},\"fill_color\":{\"value\":\"#d53e4f\"},\"left\":{\"field\":\"start_time\"},\"right\":{\"field\":\"end_time\"},\"top\":{\"field\":\"top\"}},\"id\":\"3220\",\"type\":\"Quad\"},{\"attributes\":{\"axis_label\":\"pitch (MIDI)\",\"formatter\":{\"id\":\"3229\"},\"major_label_policy\":{\"id\":\"3230\"},\"ticker\":{\"id\":\"3215\"}},\"id\":\"3199\",\"type\":\"LinearAxis\"},{\"attributes\":{\"data\":{\"bottom\":{\"__ndarray__\":\"zczMzMzMQUDNzMzMzMxCQM3MzMzMzEJAzczMzMzMQUDNzMzMzMxCQM3MzMzMzERAzczMzMzMQUDNzMzMzMxCQM3MzMzMzEFAzczMzMzMQkDNzMzMzMxCQM3MzMzMzEFAzczMzMzMREDNzMzMzMxGQM3MzMzMzEFAzczMzMzMREDNzMzMzMxGQM3MzMzMzEJAzczMzMzMQUDNzMzMzMxCQM3MzMzMzERAzczMzMzMREDNzMzMzMxCQM3MzMzMzEFAzczMzMzMQkDNzMzMzMxEQM3MzMzMzEJAzczMzMzMQUDNzMzMzMxEQM3MzMzMzEZAzczMzMzMQkDNzMzMzMxEQM3MzMzMzERAzczMzMzMQUDNzMzMzMxGQM3MzMzMzEJAzczMzMzMQUDNzMzMzMxEQM3MzMzMzERAzczMzMzMQUDNzMzMzMxCQM3MzMzMzERAzczMzMzMQkDNzMzMzMxEQM3MzMzMzEFA\",\"dtype\":\"float64\",\"order\":\"little\",\"shape\":[45]},\"duration\":{\"__ndarray__\":\"AAAAAAAAwD8AAAAAAADAPwAAAAAAAMA/AAAAAAAAwD8AAAAAAADAPwAAAAAAAMA/AAAAAAAAwD8AAAAAAADAPwAAAAAAAMA/AAAAAAAAwD8AAAAAAADAPwAAAAAAAMA/AAAAAAAAwD8AAAAAAADAPwAAAAAAAMA/AAAAAAAAwD8AAAAAAADAPwAAAAAAAMA/AAAAAAAAwD8AAAAAAADAPwAAAAAAAMA/AAAAAAAAwD8AAAAAAADAPwAAAAAAAMA/AAAAAAAAwD8AAAAAAADAPwAAAAAAAMA/AAAAAAAAwD8AAAAAAADAPwAAAAAAAMA/AAAAAAAAwD8AAAAAAADAPwAAAAAAAMA/AAAAAAAAwD8AAAAAAADAPwAAAAAAAMA/AAAAAAAAwD8AAAAAAADAPwAAAAAAAMA/AAAAAAAAwD8AAAAAAADAPwAAAAAAAMA/AAAAAAAAwD8AAAAAAADAPwAAAAAAAMA/\",\"dtype\":\"float64\",\"order\":\"little\",\"shape\":[45]},\"end_time\":{\"__ndarray__\":\"AAAAqJPUwD8AAABxIbnAPwAAACs+sNA/AABAjd3v1z8AAADZCZrXPwAAIOF87N8/AADAl/AR5D8AABAkLvTjPwAAABo93+s/AABAbAXB6z8AAHCBRgrwPwAAwGL/6PE/AAAQc98F8j8AAMA9CPfxPwAAUCeg9/U/AABAcf7l9T8AAPiWzAT2PwAAYP3f9Pc/AABA1mHY+T8AAMBsauv5PwAA4OyL6Pk/AABADKPn/T8AAE04jP//PwAAgLvn4gBAAADQkA/wAEAAAIDFKvQAQAAAt7f8AAJAAAAgoKrqAkAAAJCTnvACQAAAuh6V/gJAAACAY77xBEAAABxg4P4EQAAAuFOM+QVAAADAmf/1BkAAAKCg2vgGQAAAEHxbBAhAAACwZdf2CEAAAGDyE/cIQAAAoNi/6gpAAADQTgT7C0AAACDxo/EMQAAAYFig8gxAAADQyI3wDkAAAOAiofIOQAAA4AgcAhBA\",\"dtype\":\"float64\",\"order\":\"little\",\"shape\":[45]},\"fill_alpha\":{\"__ndarray__\":\"AAAAAADA7T8AAAAAAIDsPwAAAAAAgNU/AAAAAAAA3z8AAAAAAIDjPwAAAAAAAAAAAAAAAADA4D8AAAAAAEDtPwAAAAAAwOA/AAAAAACA7T8AAAAAAIDWPwAAAAAAgOk/AAAAAAAAxj8AAAAAAADIPwAAAAAAALw/AAAAAACA1D8AAAAAAACyPwAAAAAAAMw/AAAAAAAA1z8AAAAAAIDuPwAAAAAAgOA/AAAAAABA4j8AAAAAAADXPwAAAAAAwOc/AAAAAAAAtj8AAAAAAMDmPwAAAAAAAMs/AAAAAADA5D8AAAAAAADdPwAAAAAAANQ/AAAAAABA7z8AAAAAAIDnPwAAAAAAAIA/AAAAAAAAxz8AAAAAAMDsPwAAAAAAAMk/AAAAAADA6z8AAAAAAIDmPwAAAAAAgN0/AAAAAAAAzD8AAAAAAEDvPwAAAAAAAOg/AAAAAAAAsD8AAAAAAADfPwAAAAAAAMQ/\",\"dtype\":\"float64\",\"order\":\"little\",\"shape\":[45]},\"index\":[0,1,2,3,4,5,6,7,8,9,10,11,12,13,14,15,16,17,18,19,20,21,22,23,24,25,26,27,28,29,30,31,32,33,34,35,36,37,38,39,40,41,42,43,44],\"instrument\":[9,9,9,9,9,9,9,9,9,9,9,9,9,9,9,9,9,9,9,9,9,9,9,9,9,9,9,9,9,9,9,9,9,9,9,9,9,9,9,9,9,9,9,9,9],\"pitch\":[36,38,38,36,38,42,36,38,36,38,38,36,42,46,36,42,46,38,36,38,42,42,38,36,38,42,38,36,42,46,38,42,42,36,46,38,36,42,42,36,38,42,38,42,36],\"program\":[0,0,0,0,0,0,0,0,0,0,0,0,0,0,0,0,0,0,0,0,0,0,0,0,0,0,0,0,0,0,0,0,0,0,0,0,0,0,0,0,0,0,0,0,0],\"start_time\":{\"__ndarray__\":\"AAAAAHWSej8AAAAgLiR3PwAAAFZ8YME/AACAGrvfzz8AAACyEzTPPwAAIOF87Nc/AADAl/AR4D8AACBIXOjfPwAAABo93+c/AABAbAXB5z8AAOACjRTsPwAAgMX+0e8/AAAQc98F8D8AAIB7EO7vPwAAUCeg9/M/AABAcf7l8z8AAPiWzAT0PwAAYP3f9PU/AABA1mHY9z8AAMBsauv3PwAA4OyL6Pc/AABADKPn+z8AAE04jP/9PwAAAHfPxf8/AACgIR/g/z8AAACLVej/PwAAt7f8AAFAAAAgoKrqAUAAAJCTnvABQAAAuh6V/gFAAACAY77xA0AAABxg4P4DQAAAuFOM+QRAAADAmf/1BUAAAKCg2vgFQAAAEHxbBAdAAACwZdf2B0AAAGDyE/cHQAAAoNi/6glAAADQTgT7CkAAACDxo/ELQAAAYFig8gtAAADQyI3wDUAAAOAiofINQAAAwBE4BA9A\",\"dtype\":\"float64\",\"order\":\"little\",\"shape\":[45]},\"top\":{\"__ndarray__\":\"MzMzMzMzQkAzMzMzMzNDQDMzMzMzM0NAMzMzMzMzQkAzMzMzMzNDQDMzMzMzM0VAMzMzMzMzQkAzMzMzMzNDQDMzMzMzM0JAMzMzMzMzQ0AzMzMzMzNDQDMzMzMzM0JAMzMzMzMzRUAzMzMzMzNHQDMzMzMzM0JAMzMzMzMzRUAzMzMzMzNHQDMzMzMzM0NAMzMzMzMzQkAzMzMzMzNDQDMzMzMzM0VAMzMzMzMzRUAzMzMzMzNDQDMzMzMzM0JAMzMzMzMzQ0AzMzMzMzNFQDMzMzMzM0NAMzMzMzMzQkAzMzMzMzNFQDMzMzMzM0dAMzMzMzMzQ0AzMzMzMzNFQDMzMzMzM0VAMzMzMzMzQkAzMzMzMzNHQDMzMzMzM0NAMzMzMzMzQkAzMzMzMzNFQDMzMzMzM0VAMzMzMzMzQkAzMzMzMzNDQDMzMzMzM0VAMzMzMzMzQ0AzMzMzMzNFQDMzMzMzM0JA\",\"dtype\":\"float64\",\"order\":\"little\",\"shape\":[45]},\"velocity\":[119,114,43,62,78,0,67,117,67,118,45,102,22,24,14,41,9,28,46,122,66,73,46,95,11,91,27,83,58,40,125,94,1,23,115,25,111,90,59,28,125,96,8,62,20]},\"selected\":{\"id\":\"3232\"},\"selection_policy\":{\"id\":\"3233\"}},\"id\":\"3218\",\"type\":\"ColumnDataSource\"},{\"attributes\":{\"axis\":{\"id\":\"3199\"},\"dimension\":1,\"ticker\":{\"id\":\"3217\"}},\"id\":\"3202\",\"type\":\"Grid\"},{\"attributes\":{},\"id\":\"3230\",\"type\":\"AllLabels\"},{\"attributes\":{},\"id\":\"3229\",\"type\":\"BasicTickFormatter\"},{\"attributes\":{},\"id\":\"3189\",\"type\":\"DataRange1d\"},{\"attributes\":{\"axis\":{\"id\":\"3195\"},\"ticker\":null},\"id\":\"3198\",\"type\":\"Grid\"},{\"attributes\":{},\"id\":\"3228\",\"type\":\"AllLabels\"},{\"attributes\":{},\"id\":\"3193\",\"type\":\"LinearScale\"},{\"attributes\":{\"interval\":12},\"id\":\"3215\",\"type\":\"SingleIntervalTicker\"},{\"attributes\":{},\"id\":\"3226\",\"type\":\"BasicTickFormatter\"},{\"attributes\":{},\"id\":\"3225\",\"type\":\"Title\"},{\"attributes\":{\"axis_label\":\"time (sec)\",\"formatter\":{\"id\":\"3226\"},\"major_label_policy\":{\"id\":\"3228\"},\"ticker\":{\"id\":\"3196\"}},\"id\":\"3195\",\"type\":\"LinearAxis\"},{\"attributes\":{\"source\":{\"id\":\"3218\"}},\"id\":\"3223\",\"type\":\"CDSView\"},{\"attributes\":{\"bottom\":{\"field\":\"bottom\"},\"fill_alpha\":{\"value\":0.1},\"fill_color\":{\"value\":\"#d53e4f\"},\"left\":{\"field\":\"start_time\"},\"line_alpha\":{\"value\":0.1},\"right\":{\"field\":\"end_time\"},\"top\":{\"field\":\"top\"}},\"id\":\"3221\",\"type\":\"Quad\"},{\"attributes\":{},\"id\":\"3191\",\"type\":\"LinearScale\"},{\"attributes\":{},\"id\":\"3206\",\"type\":\"ResetTool\"},{\"attributes\":{\"data_source\":{\"id\":\"3218\"},\"glyph\":{\"id\":\"3220\"},\"hover_glyph\":null,\"muted_glyph\":null,\"nonselection_glyph\":{\"id\":\"3221\"},\"view\":{\"id\":\"3223\"}},\"id\":\"3222\",\"type\":\"GlyphRenderer\"}],\"root_ids\":[\"3186\"]},\"title\":\"Bokeh Application\",\"version\":\"2.3.3\"}};\n",
              "  var render_items = [{\"docid\":\"dc4ab1f2-9408-44cf-a605-2f5256ddd058\",\"root_ids\":[\"3186\"],\"roots\":{\"3186\":\"fabc47cc-e01c-487a-8583-c726597c6fbb\"}}];\n",
              "  root.Bokeh.embed.embed_items_notebook(docs_json, render_items);\n",
              "\n",
              "  }\n",
              "  if (root.Bokeh !== undefined) {\n",
              "    embed_document(root);\n",
              "  } else {\n",
              "    var attempts = 0;\n",
              "    var timer = setInterval(function(root) {\n",
              "      if (root.Bokeh !== undefined) {\n",
              "        clearInterval(timer);\n",
              "        embed_document(root);\n",
              "      } else {\n",
              "        attempts++;\n",
              "        if (attempts > 100) {\n",
              "          clearInterval(timer);\n",
              "          console.log(\"Bokeh: ERROR: Unable to run BokehJS code because BokehJS library is missing\");\n",
              "        }\n",
              "      }\n",
              "    }, 10, root)\n",
              "  }\n",
              "})(window);"
            ],
            "application/vnd.bokehjs_exec.v0+json": ""
          },
          "metadata": {
            "application/vnd.bokehjs_exec.v0+json": {
              "id": "3186"
            }
          }
        },
        {
          "output_type": "display_data",
          "data": {
            "text/plain": [
              "<IPython.core.display.HTML object>"
            ],
            "text/html": [
              "<div id=\"id_21\"> </div>"
            ]
          },
          "metadata": {}
        },
        {
          "output_type": "stream",
          "name": "stdout",
          "text": [
            "\n",
            "\n",
            "\n",
            "Beat  1\n"
          ]
        },
        {
          "output_type": "display_data",
          "data": {
            "text/html": [
              "\n",
              "\n",
              "\n",
              "\n",
              "\n",
              "\n",
              "  <div class=\"bk-root\" id=\"9790a318-78be-4297-8c09-1b2471640a7d\" data-root-id=\"3424\"></div>\n"
            ]
          },
          "metadata": {}
        },
        {
          "output_type": "display_data",
          "data": {
            "application/javascript": [
              "(function(root) {\n",
              "  function embed_document(root) {\n",
              "    \n",
              "  var docs_json = {\"63fd8695-8a63-4b1c-821d-8abc00514fa7\":{\"defs\":[],\"roots\":{\"references\":[{\"attributes\":{\"below\":[{\"id\":\"3433\"}],\"center\":[{\"id\":\"3436\"},{\"id\":\"3440\"}],\"height\":200,\"left\":[{\"id\":\"3437\"}],\"renderers\":[{\"id\":\"3460\"}],\"title\":{\"id\":\"3463\"},\"toolbar\":{\"id\":\"3447\"},\"width\":500,\"x_range\":{\"id\":\"3425\"},\"x_scale\":{\"id\":\"3429\"},\"y_range\":{\"id\":\"3427\"},\"y_scale\":{\"id\":\"3431\"}},\"id\":\"3424\",\"subtype\":\"Figure\",\"type\":\"Plot\"},{\"attributes\":{},\"id\":\"3434\",\"type\":\"BasicTicker\"},{\"attributes\":{\"bottom_units\":\"screen\",\"fill_alpha\":0.5,\"fill_color\":\"lightgrey\",\"left_units\":\"screen\",\"level\":\"overlay\",\"line_alpha\":1.0,\"line_color\":\"black\",\"line_dash\":[4,4],\"line_width\":2,\"right_units\":\"screen\",\"syncable\":false,\"top_units\":\"screen\"},\"id\":\"3446\",\"type\":\"BoxAnnotation\"},{\"attributes\":{\"axis\":{\"id\":\"3433\"},\"ticker\":null},\"id\":\"3436\",\"type\":\"Grid\"},{\"attributes\":{\"active_multi\":null,\"tools\":[{\"id\":\"3441\"},{\"id\":\"3442\"},{\"id\":\"3443\"},{\"id\":\"3444\"},{\"id\":\"3445\"}]},\"id\":\"3447\",\"type\":\"Toolbar\"},{\"attributes\":{},\"id\":\"3427\",\"type\":\"DataRange1d\"},{\"attributes\":{},\"id\":\"3425\",\"type\":\"DataRange1d\"},{\"attributes\":{\"data_source\":{\"id\":\"3456\"},\"glyph\":{\"id\":\"3458\"},\"hover_glyph\":null,\"muted_glyph\":null,\"nonselection_glyph\":{\"id\":\"3459\"},\"view\":{\"id\":\"3461\"}},\"id\":\"3460\",\"type\":\"GlyphRenderer\"},{\"attributes\":{},\"id\":\"3431\",\"type\":\"LinearScale\"},{\"attributes\":{},\"id\":\"3429\",\"type\":\"LinearScale\"},{\"attributes\":{\"axis_label\":\"pitch (MIDI)\",\"formatter\":{\"id\":\"3467\"},\"major_label_policy\":{\"id\":\"3468\"},\"ticker\":{\"id\":\"3453\"}},\"id\":\"3437\",\"type\":\"LinearAxis\"},{\"attributes\":{\"axis_label\":\"time (sec)\",\"formatter\":{\"id\":\"3464\"},\"major_label_policy\":{\"id\":\"3466\"},\"ticker\":{\"id\":\"3434\"}},\"id\":\"3433\",\"type\":\"LinearAxis\"},{\"attributes\":{\"callback\":null,\"tooltips\":[[\"pitch\",\"@pitch\"],[\"program\",\"@program\"],[\"velo\",\"@velocity\"],[\"duration\",\"@duration\"],[\"start_time\",\"@start_time\"],[\"end_time\",\"@end_time\"],[\"velocity\",\"@velocity\"],[\"fill_alpha\",\"@fill_alpha\"]]},\"id\":\"3441\",\"type\":\"HoverTool\"},{\"attributes\":{\"bottom\":{\"field\":\"bottom\"},\"fill_alpha\":{\"value\":0.1},\"fill_color\":{\"value\":\"#d53e4f\"},\"left\":{\"field\":\"start_time\"},\"line_alpha\":{\"value\":0.1},\"right\":{\"field\":\"end_time\"},\"top\":{\"field\":\"top\"}},\"id\":\"3459\",\"type\":\"Quad\"},{\"attributes\":{\"bottom\":{\"field\":\"bottom\"},\"fill_alpha\":{\"field\":\"fill_alpha\"},\"fill_color\":{\"value\":\"#d53e4f\"},\"left\":{\"field\":\"start_time\"},\"right\":{\"field\":\"end_time\"},\"top\":{\"field\":\"top\"}},\"id\":\"3458\",\"type\":\"Quad\"},{\"attributes\":{},\"id\":\"3463\",\"type\":\"Title\"},{\"attributes\":{\"source\":{\"id\":\"3456\"}},\"id\":\"3461\",\"type\":\"CDSView\"},{\"attributes\":{},\"id\":\"3470\",\"type\":\"Selection\"},{\"attributes\":{\"interval\":12},\"id\":\"3453\",\"type\":\"SingleIntervalTicker\"},{\"attributes\":{},\"id\":\"3445\",\"type\":\"SaveTool\"},{\"attributes\":{},\"id\":\"3468\",\"type\":\"AllLabels\"},{\"attributes\":{},\"id\":\"3471\",\"type\":\"UnionRenderers\"},{\"attributes\":{\"data\":{\"bottom\":{\"__ndarray__\":\"zczMzMzMQkDNzMzMzMxCQM3MzMzMzERAzczMzMzMQUDNzMzMzMxCQM3MzMzMzEFAzczMzMzMREDNzMzMzMxCQM3MzMzMzEFAzczMzMzMREDNzMzMzMxCQM3MzMzMzEFAzczMzMxMSUDNzMzMzMxCQM3MzMzMzERAzczMzMzMQUDNzMzMzMxCQM3MzMzMzERAzczMzMxMSUDNzMzMzMxCQM3MzMzMzEFAzczMzMzMQkDNzMzMzMxCQM3MzMzMzEFAzczMzMzMREDNzMzMzExJQM3MzMzMzEJAzczMzMzMQkDNzMzMzMxBQM3MzMzMzEJAzczMzMxMSUDNzMzMzMxEQM3MzMzMTElAzczMzMzMQkDNzMzMzMxBQM3MzMzMzEJAzczMzMxMSUDNzMzMzMxCQM3MzMzMzEFAzczMzMzMREDNzMzMzExJQM3MzMzMzEJAzczMzMzMQkDNzMzMzMxBQM3MzMzMzERAzczMzMxMSUDNzMzMzMxCQM3MzMzMzEFAzczMzMzMQkA=\",\"dtype\":\"float64\",\"order\":\"little\",\"shape\":[49]},\"duration\":{\"__ndarray__\":\"AAAAAAAAwD8AAAAAAADAPwAAAAAAAMA/AAAAAAAAwD8AAAAAAADAPwAAAAAAAMA/AAAAAAAAwD8AAAAAAADAPwAAAAAAAMA/AAAAAAAAwD8AAAAAAADAPwAAAAAAAMA/AAAAAAAAwD8AAAAAAADAPwAAAAAAAMA/AAAAAAAAwD8AAAAAAADAPwAAAAAAAMA/AAAAAAAAwD8AAAAAAADAPwAAAAAAAMA/AAAAAAAAwD8AAAAAAADAPwAAAAAAAMA/AAAAAAAAwD8AAAAAAADAPwAAAAAAAMA/AAAAAAAAwD8AAAAAAADAPwAAAAAAAMA/AAAAAAAAwD8AAAAAAADAPwAAAAAAAMA/AAAAAAAAwD8AAAAAAADAPwAAAAAAAMA/AAAAAAAAwD8AAAAAAADAPwAAAAAAAMA/AAAAAAAAwD8AAAAAAADAPwAAAAAAAMA/AAAAAAAAwD8AAAAAAADAPwAAAAAAAMA/AAAAAAAAwD8AAAAAAADAPwAAAAAAAMA/AAAAAAAAwD8=\",\"dtype\":\"float64\",\"order\":\"little\",\"shape\":[49]},\"end_time\":{\"__ndarray__\":\"AAAAAR72wD8AAAAE/6rWPwAAAJZBttY/AAAAILaE3j8AAABaOIjePwAAgNOdyuM/AAAAtEI34z8AAIAyha/nPwAAAKnBq+s/AAAArzR76z8AAABK5VHvPwAAgDqIsPE/AACA/au58T8AAIBaGKn1PwAAAGf4bPU/AACAzE6n9z8AAAAsHb73PwAAAAUcvfk/AAAAFOSv+T8AAICqEcz7PwAAABBLtv0/AACAUre3/T8AAID5lLn/PwAAQIf81gBAAAAA6MjMAEAAAAA7ldAAQAAAQPRs5wFAAACArL/cAkAAAMAzydIDQAAAIKnQ5gNAAAAQbhP+A0AAAADSWdUEQAAAECH88QRAAAAgn2LvBUAAAIBejeIGQAAAAFsI4wZAAAA8Eib9BkAAAGAsreAHQAAAQOt95whAAACA9YvZCEAAAMC/GuAIQAAAINnb5wlAAAAAP5vgCkAAAEAAU9MLQAAAAB080QxAAACgOST0DEAAAGCZcOgNQAAAwCdz5g5AAAAAVrvaD0A=\",\"dtype\":\"float64\",\"order\":\"little\",\"shape\":[49]},\"fill_alpha\":{\"__ndarray__\":\"AAAAAAAAkD8AAAAAAMDgPwAAAAAAAMk/AAAAAAAA1T8AAAAAAIDXPwAAAAAAAKQ/AAAAAAAA0D8AAAAAAADGPwAAAAAAAM8/AAAAAAAArD8AAAAAAIDUPwAAAAAAANY/AAAAAADA4j8AAAAAAIDbPwAAAAAAgNE/AAAAAAAA1z8AAAAAAAC+PwAAAAAAALg/AAAAAAAA6D8AAAAAAADXPwAAAAAAANQ/AAAAAAAAzD8AAAAAAADEPwAAAAAAANQ/AAAAAACA3z8AAAAAAIDoPwAAAAAAAME/AAAAAACA0D8AAAAAAADePwAAAAAAAMQ/AAAAAAAAtj8AAAAAAIDgPwAAAAAAwOM/AAAAAAAAyz8AAAAAAADRPwAAAAAAAMY/AAAAAAAAsj8AAAAAAIDRPwAAAAAAAMI/AAAAAABA4T8AAAAAAEDoPwAAAAAAANI/AAAAAAAAyD8AAAAAAIDePwAAAAAAwOI/AAAAAADA6j8AAAAAAADQPwAAAAAAgNU/AAAAAAAA2T8=\",\"dtype\":\"float64\",\"order\":\"little\",\"shape\":[49]},\"index\":[0,1,2,3,4,5,6,7,8,9,10,11,12,13,14,15,16,17,18,19,20,21,22,23,24,25,26,27,28,29,30,31,32,33,34,35,36,37,38,39,40,41,42,43,44,45,46,47,48],\"instrument\":[9,9,9,9,9,9,9,9,9,9,9,9,9,9,9,9,9,9,9,9,9,9,9,9,9,9,9,9,9,9,9,9,9,9,9,9,9,9,9,9,9,9,9,9,9,9,9,9,9],\"pitch\":[38,38,42,36,38,36,42,38,36,42,38,36,51,38,42,36,38,42,51,38,36,38,38,36,42,51,38,38,36,38,51,42,51,38,36,38,51,38,36,42,51,38,38,36,42,51,38,36,38],\"program\":[0,0,0,0,0,0,0,0,0,0,0,0,0,0,0,0,0,0,0,0,0,0,0,0,0,0,0,0,0,0,0,0,0,0,0,0,0,0,0,0,0,0,0,0,0,0,0,0,0],\"start_time\":{\"__ndarray__\":\"AAAAIMDDfj8AAAAI/lXNPwAAACyDbM0/AAAAILaE1j8AAABaOIjWPwAAAKc7ld8/AAAAaIVu3j8AAIAyha/jPwAAAKnBq+c/AAAArzR75z8AAABK5VHrPwAAAHUQYe8/AAAA+1dz7z8AAIBaGKnzPwAAAGf4bPM/AACAzE6n9T8AAAAsHb71PwAAAAUcvfc/AAAAFOSv9z8AAICqEcz5PwAAABBLtvs/AACAUre3+z8AAID5lLn9PwAAgA75rf8/AAAA0JGZ/z8AAAB2KqH/PwAAQPRs5wBAAACArL/cAUAAAMAzydICQAAAIKnQ5gJAAAAQbhP+AkAAAADSWdUDQAAAECH88QNAAAAgn2LvBEAAAIBejeIFQAAAAFsI4wVAAAA8Eib9BUAAAGAsreAGQAAAQOt95wdAAACA9YvZB0AAAMC/GuAHQAAAINnb5whAAAAAP5vgCUAAAEAAU9MKQAAAAB080QtAAACgOST0C0AAAGCZcOgMQAAAwCdz5g1AAAAAVrvaDkA=\",\"dtype\":\"float64\",\"order\":\"little\",\"shape\":[49]},\"top\":{\"__ndarray__\":\"MzMzMzMzQ0AzMzMzMzNDQDMzMzMzM0VAMzMzMzMzQkAzMzMzMzNDQDMzMzMzM0JAMzMzMzMzRUAzMzMzMzNDQDMzMzMzM0JAMzMzMzMzRUAzMzMzMzNDQDMzMzMzM0JAMzMzMzOzSUAzMzMzMzNDQDMzMzMzM0VAMzMzMzMzQkAzMzMzMzNDQDMzMzMzM0VAMzMzMzOzSUAzMzMzMzNDQDMzMzMzM0JAMzMzMzMzQ0AzMzMzMzNDQDMzMzMzM0JAMzMzMzMzRUAzMzMzM7NJQDMzMzMzM0NAMzMzMzMzQ0AzMzMzMzNCQDMzMzMzM0NAMzMzMzOzSUAzMzMzMzNFQDMzMzMzs0lAMzMzMzMzQ0AzMzMzMzNCQDMzMzMzM0NAMzMzMzOzSUAzMzMzMzNDQDMzMzMzM0JAMzMzMzMzRUAzMzMzM7NJQDMzMzMzM0NAMzMzMzMzQ0AzMzMzMzNCQDMzMzMzM0VAMzMzMzOzSUAzMzMzMzNDQDMzMzMzM0JAMzMzMzMzQ0A=\",\"dtype\":\"float64\",\"order\":\"little\",\"shape\":[49]},\"velocity\":[2,67,25,42,47,5,32,22,31,7,41,44,75,55,35,46,15,12,96,46,40,28,20,40,63,98,17,33,60,20,11,66,79,27,34,22,9,35,18,69,97,36,24,61,75,107,32,43,50]},\"selected\":{\"id\":\"3470\"},\"selection_policy\":{\"id\":\"3471\"}},\"id\":\"3456\",\"type\":\"ColumnDataSource\"},{\"attributes\":{},\"id\":\"3467\",\"type\":\"BasicTickFormatter\"},{\"attributes\":{},\"id\":\"3466\",\"type\":\"AllLabels\"},{\"attributes\":{},\"id\":\"3444\",\"type\":\"ResetTool\"},{\"attributes\":{},\"id\":\"3464\",\"type\":\"BasicTickFormatter\"},{\"attributes\":{\"axis\":{\"id\":\"3437\"},\"dimension\":1,\"ticker\":{\"id\":\"3455\"}},\"id\":\"3440\",\"type\":\"Grid\"},{\"attributes\":{\"overlay\":{\"id\":\"3446\"}},\"id\":\"3443\",\"type\":\"BoxZoomTool\"},{\"attributes\":{},\"id\":\"3442\",\"type\":\"PanTool\"},{\"attributes\":{\"interval\":12},\"id\":\"3455\",\"type\":\"SingleIntervalTicker\"}],\"root_ids\":[\"3424\"]},\"title\":\"Bokeh Application\",\"version\":\"2.3.3\"}};\n",
              "  var render_items = [{\"docid\":\"63fd8695-8a63-4b1c-821d-8abc00514fa7\",\"root_ids\":[\"3424\"],\"roots\":{\"3424\":\"9790a318-78be-4297-8c09-1b2471640a7d\"}}];\n",
              "  root.Bokeh.embed.embed_items_notebook(docs_json, render_items);\n",
              "\n",
              "  }\n",
              "  if (root.Bokeh !== undefined) {\n",
              "    embed_document(root);\n",
              "  } else {\n",
              "    var attempts = 0;\n",
              "    var timer = setInterval(function(root) {\n",
              "      if (root.Bokeh !== undefined) {\n",
              "        clearInterval(timer);\n",
              "        embed_document(root);\n",
              "      } else {\n",
              "        attempts++;\n",
              "        if (attempts > 100) {\n",
              "          clearInterval(timer);\n",
              "          console.log(\"Bokeh: ERROR: Unable to run BokehJS code because BokehJS library is missing\");\n",
              "        }\n",
              "      }\n",
              "    }, 10, root)\n",
              "  }\n",
              "})(window);"
            ],
            "application/vnd.bokehjs_exec.v0+json": ""
          },
          "metadata": {
            "application/vnd.bokehjs_exec.v0+json": {
              "id": "3424"
            }
          }
        },
        {
          "output_type": "display_data",
          "data": {
            "text/plain": [
              "<IPython.core.display.HTML object>"
            ],
            "text/html": [
              "<div id=\"id_22\"> </div>"
            ]
          },
          "metadata": {}
        },
        {
          "output_type": "stream",
          "name": "stdout",
          "text": [
            "\n",
            "\n",
            "\n",
            "Beat  2\n"
          ]
        },
        {
          "output_type": "display_data",
          "data": {
            "text/html": [
              "\n",
              "\n",
              "\n",
              "\n",
              "\n",
              "\n",
              "  <div class=\"bk-root\" id=\"081a4f48-4a21-43e3-9eb7-f9942ae9cb0e\" data-root-id=\"3672\"></div>\n"
            ]
          },
          "metadata": {}
        },
        {
          "output_type": "display_data",
          "data": {
            "application/javascript": [
              "(function(root) {\n",
              "  function embed_document(root) {\n",
              "    \n",
              "  var docs_json = {\"e82eea32-b0ef-47fd-9048-61892bdb0f21\":{\"defs\":[],\"roots\":{\"references\":[{\"attributes\":{\"below\":[{\"id\":\"3681\"}],\"center\":[{\"id\":\"3684\"},{\"id\":\"3688\"}],\"height\":200,\"left\":[{\"id\":\"3685\"}],\"renderers\":[{\"id\":\"3708\"}],\"title\":{\"id\":\"3711\"},\"toolbar\":{\"id\":\"3695\"},\"width\":500,\"x_range\":{\"id\":\"3673\"},\"x_scale\":{\"id\":\"3677\"},\"y_range\":{\"id\":\"3675\"},\"y_scale\":{\"id\":\"3679\"}},\"id\":\"3672\",\"subtype\":\"Figure\",\"type\":\"Plot\"},{\"attributes\":{},\"id\":\"3715\",\"type\":\"BasicTickFormatter\"},{\"attributes\":{\"overlay\":{\"id\":\"3694\"}},\"id\":\"3691\",\"type\":\"BoxZoomTool\"},{\"attributes\":{},\"id\":\"3712\",\"type\":\"BasicTickFormatter\"},{\"attributes\":{\"callback\":null,\"tooltips\":[[\"pitch\",\"@pitch\"],[\"program\",\"@program\"],[\"velo\",\"@velocity\"],[\"duration\",\"@duration\"],[\"start_time\",\"@start_time\"],[\"end_time\",\"@end_time\"],[\"velocity\",\"@velocity\"],[\"fill_alpha\",\"@fill_alpha\"]]},\"id\":\"3689\",\"type\":\"HoverTool\"},{\"attributes\":{\"data_source\":{\"id\":\"3704\"},\"glyph\":{\"id\":\"3706\"},\"hover_glyph\":null,\"muted_glyph\":null,\"nonselection_glyph\":{\"id\":\"3707\"},\"view\":{\"id\":\"3709\"}},\"id\":\"3708\",\"type\":\"GlyphRenderer\"},{\"attributes\":{},\"id\":\"3718\",\"type\":\"Selection\"},{\"attributes\":{},\"id\":\"3677\",\"type\":\"LinearScale\"},{\"attributes\":{},\"id\":\"3690\",\"type\":\"PanTool\"},{\"attributes\":{\"data\":{\"bottom\":{\"__ndarray__\":\"zczMzMzMREDNzMzMzMxCQM3MzMzMzEFAzczMzMzMREDNzMzMzMxBQM3MzMzMzEhAzczMzMzMR0DNzMzMzMxBQM3MzMzMzEJAzczMzMzMREDNzMzMzExGQM3MzMzMzEFAzczMzMzMR0DNzMzMzMxEQM3MzMzMTEZAzczMzMzMQUDNzMzMzMxIQM3MzMzMzEFAzczMzMxMRkDNzMzMzMxBQM3MzMzMzEJAzczMzMzMREDNzMzMzExGQM3MzMzMTEZAzczMzMxMRkA=\",\"dtype\":\"float64\",\"order\":\"little\",\"shape\":[25]},\"duration\":{\"__ndarray__\":\"AAAAAAAAwD8AAAAAAADAPwAAAAAAAMA/AAAAAAAAwD8AAAAAAADAPwAAAAAAAMA/AAAAAAAAwD8AAAAAAADAPwAAAAAAAMA/AAAAAAAAwD8AAAAAAADAPwAAAAAAAMA/AAAAAAAAwD8AAAAAAADAPwAAAAAAAMA/AAAAAAAAwD8AAAAAAADAPwAAAAAAAMA/AAAAAAAAwD8AAAAAAADAPwAAAAAAAMA/AAAAAAAAwD8AAAAAAADAPwAAAAAAAMA/AAAAAAAAwD8=\",\"dtype\":\"float64\",\"order\":\"little\",\"shape\":[25]},\"end_time\":{\"__ndarray__\":\"AAAAdIpAwT8AAAA1hj7fPwAAgEAR9OM/AACAQYmR4z8AAABsltLxPwAAwCf39vE/AADokFP78z8AAIAwjqD5PwAAgH9Y1vk/AACAdoKU+T8AAEC9qhP+PwAAwL8D2QBAAACQXHr5AEAAAAAncRIEQAAAzAYI/QNAAACAkhPNBEAAAA40Qv8EQAAAACuh2whAAAAgNRPyCEAAAMDUGdIMQAAAED628QxAAABAdiTFDEAAACuu5gANQAAAYNkYCg9AAAAIPmz5D0A=\",\"dtype\":\"float64\",\"order\":\"little\",\"shape\":[25]},\"fill_alpha\":{\"__ndarray__\":\"AAAAAADA4j8AAAAAAIDlPwAAAAAAAO0/AAAAAAAA5D8AAAAAAMDsPwAAAAAAgNg/AAAAAAAAkD8AAAAAAMDtPwAAAAAAwOo/AAAAAACA0T8AAAAAAADOPwAAAAAAAO4/AAAAAAAAvD8AAAAAAIDQPwAAAAAAAMo/AAAAAACA7j8AAAAAAADGPwAAAAAAQO4/AAAAAAAA4z8AAAAAAMDuPwAAAAAAAOo/AAAAAACA1z8AAAAAAEDhPwAAAAAAgNc/AAAAAACA1z8=\",\"dtype\":\"float64\",\"order\":\"little\",\"shape\":[25]},\"index\":[0,1,2,3,4,5,6,7,8,9,10,11,12,13,14,15,16,17,18,19,20,21,22,23,24],\"instrument\":[9,9,9,9,9,9,9,9,9,9,9,9,9,9,9,9,9,9,9,9,9,9,9,9,9],\"pitch\":[42,38,36,42,36,50,48,36,38,42,45,36,48,42,45,36,50,36,45,36,38,42,45,45,45],\"program\":[0,0,0,0,0,0,0,0,0,0,0,0,0,0,0,0,0,0,0,0,0,0,0,0,0],\"start_time\":{\"__ndarray__\":\"AAAAQKcIhD8AAAA1hj7XPwAAAIEi6N8/AAAAgxIj3z8AAADYLKXvPwAAgE/u7e8/AADokFP78T8AAIAwjqD3PwAAgH9Y1vc/AACAdoKU9z8AAEC9qhP8PwAAgH8Hsv8/AAAgufTy/z8AAAAncRIDQAAAzAYI/QJAAACAkhPNA0AAAA40Qv8DQAAAACuh2wdAAAAgNRPyB0AAAMDUGdILQAAAED628QtAAABAdiTFC0AAACuu5gAMQAAAYNkYCg5AAAAIPmz5DkA=\",\"dtype\":\"float64\",\"order\":\"little\",\"shape\":[25]},\"top\":{\"__ndarray__\":\"MzMzMzMzRUAzMzMzMzNDQDMzMzMzM0JAMzMzMzMzRUAzMzMzMzNCQDMzMzMzM0lAMzMzMzMzSEAzMzMzMzNCQDMzMzMzM0NAMzMzMzMzRUAzMzMzM7NGQDMzMzMzM0JAMzMzMzMzSEAzMzMzMzNFQDMzMzMzs0ZAMzMzMzMzQkAzMzMzMzNJQDMzMzMzM0JAMzMzMzOzRkAzMzMzMzNCQDMzMzMzM0NAMzMzMzMzRUAzMzMzM7NGQDMzMzMzs0ZAMzMzMzOzRkA=\",\"dtype\":\"float64\",\"order\":\"little\",\"shape\":[25]},\"velocity\":[75,86,116,80,115,49,2,119,107,35,30,120,14,33,26,122,22,121,76,123,104,47,69,47,47]},\"selected\":{\"id\":\"3718\"},\"selection_policy\":{\"id\":\"3719\"}},\"id\":\"3704\",\"type\":\"ColumnDataSource\"},{\"attributes\":{\"axis_label\":\"time (sec)\",\"formatter\":{\"id\":\"3712\"},\"major_label_policy\":{\"id\":\"3714\"},\"ticker\":{\"id\":\"3682\"}},\"id\":\"3681\",\"type\":\"LinearAxis\"},{\"attributes\":{\"bottom_units\":\"screen\",\"fill_alpha\":0.5,\"fill_color\":\"lightgrey\",\"left_units\":\"screen\",\"level\":\"overlay\",\"line_alpha\":1.0,\"line_color\":\"black\",\"line_dash\":[4,4],\"line_width\":2,\"right_units\":\"screen\",\"syncable\":false,\"top_units\":\"screen\"},\"id\":\"3694\",\"type\":\"BoxAnnotation\"},{\"attributes\":{},\"id\":\"3719\",\"type\":\"UnionRenderers\"},{\"attributes\":{\"axis\":{\"id\":\"3681\"},\"ticker\":null},\"id\":\"3684\",\"type\":\"Grid\"},{\"attributes\":{},\"id\":\"3675\",\"type\":\"DataRange1d\"},{\"attributes\":{},\"id\":\"3682\",\"type\":\"BasicTicker\"},{\"attributes\":{\"bottom\":{\"field\":\"bottom\"},\"fill_alpha\":{\"value\":0.1},\"fill_color\":{\"value\":\"#d53e4f\"},\"left\":{\"field\":\"start_time\"},\"line_alpha\":{\"value\":0.1},\"right\":{\"field\":\"end_time\"},\"top\":{\"field\":\"top\"}},\"id\":\"3707\",\"type\":\"Quad\"},{\"attributes\":{},\"id\":\"3711\",\"type\":\"Title\"},{\"attributes\":{},\"id\":\"3673\",\"type\":\"DataRange1d\"},{\"attributes\":{},\"id\":\"3714\",\"type\":\"AllLabels\"},{\"attributes\":{},\"id\":\"3679\",\"type\":\"LinearScale\"},{\"attributes\":{\"active_multi\":null,\"tools\":[{\"id\":\"3689\"},{\"id\":\"3690\"},{\"id\":\"3691\"},{\"id\":\"3692\"},{\"id\":\"3693\"}]},\"id\":\"3695\",\"type\":\"Toolbar\"},{\"attributes\":{\"interval\":12},\"id\":\"3703\",\"type\":\"SingleIntervalTicker\"},{\"attributes\":{},\"id\":\"3716\",\"type\":\"AllLabels\"},{\"attributes\":{\"source\":{\"id\":\"3704\"}},\"id\":\"3709\",\"type\":\"CDSView\"},{\"attributes\":{\"interval\":12},\"id\":\"3701\",\"type\":\"SingleIntervalTicker\"},{\"attributes\":{},\"id\":\"3693\",\"type\":\"SaveTool\"},{\"attributes\":{},\"id\":\"3692\",\"type\":\"ResetTool\"},{\"attributes\":{\"axis\":{\"id\":\"3685\"},\"dimension\":1,\"ticker\":{\"id\":\"3703\"}},\"id\":\"3688\",\"type\":\"Grid\"},{\"attributes\":{\"axis_label\":\"pitch (MIDI)\",\"formatter\":{\"id\":\"3715\"},\"major_label_policy\":{\"id\":\"3716\"},\"ticker\":{\"id\":\"3701\"}},\"id\":\"3685\",\"type\":\"LinearAxis\"},{\"attributes\":{\"bottom\":{\"field\":\"bottom\"},\"fill_alpha\":{\"field\":\"fill_alpha\"},\"fill_color\":{\"value\":\"#d53e4f\"},\"left\":{\"field\":\"start_time\"},\"right\":{\"field\":\"end_time\"},\"top\":{\"field\":\"top\"}},\"id\":\"3706\",\"type\":\"Quad\"}],\"root_ids\":[\"3672\"]},\"title\":\"Bokeh Application\",\"version\":\"2.3.3\"}};\n",
              "  var render_items = [{\"docid\":\"e82eea32-b0ef-47fd-9048-61892bdb0f21\",\"root_ids\":[\"3672\"],\"roots\":{\"3672\":\"081a4f48-4a21-43e3-9eb7-f9942ae9cb0e\"}}];\n",
              "  root.Bokeh.embed.embed_items_notebook(docs_json, render_items);\n",
              "\n",
              "  }\n",
              "  if (root.Bokeh !== undefined) {\n",
              "    embed_document(root);\n",
              "  } else {\n",
              "    var attempts = 0;\n",
              "    var timer = setInterval(function(root) {\n",
              "      if (root.Bokeh !== undefined) {\n",
              "        clearInterval(timer);\n",
              "        embed_document(root);\n",
              "      } else {\n",
              "        attempts++;\n",
              "        if (attempts > 100) {\n",
              "          clearInterval(timer);\n",
              "          console.log(\"Bokeh: ERROR: Unable to run BokehJS code because BokehJS library is missing\");\n",
              "        }\n",
              "      }\n",
              "    }, 10, root)\n",
              "  }\n",
              "})(window);"
            ],
            "application/vnd.bokehjs_exec.v0+json": ""
          },
          "metadata": {
            "application/vnd.bokehjs_exec.v0+json": {
              "id": "3672"
            }
          }
        },
        {
          "output_type": "display_data",
          "data": {
            "text/plain": [
              "<IPython.core.display.HTML object>"
            ],
            "text/html": [
              "<div id=\"id_23\"> </div>"
            ]
          },
          "metadata": {}
        },
        {
          "output_type": "stream",
          "name": "stdout",
          "text": [
            "\n",
            "\n",
            "\n",
            "Beat  3\n"
          ]
        },
        {
          "output_type": "display_data",
          "data": {
            "text/html": [
              "\n",
              "\n",
              "\n",
              "\n",
              "\n",
              "\n",
              "  <div class=\"bk-root\" id=\"aad23864-708a-4537-a46b-0a7fcbc83487\" data-root-id=\"3930\"></div>\n"
            ]
          },
          "metadata": {}
        },
        {
          "output_type": "display_data",
          "data": {
            "application/javascript": [
              "(function(root) {\n",
              "  function embed_document(root) {\n",
              "    \n",
              "  var docs_json = {\"34a7500f-f30f-4ef9-9296-7235c0c038f1\":{\"defs\":[],\"roots\":{\"references\":[{\"attributes\":{\"below\":[{\"id\":\"3939\"}],\"center\":[{\"id\":\"3942\"},{\"id\":\"3946\"}],\"height\":200,\"left\":[{\"id\":\"3943\"}],\"renderers\":[{\"id\":\"3966\"}],\"title\":{\"id\":\"3969\"},\"toolbar\":{\"id\":\"3953\"},\"width\":500,\"x_range\":{\"id\":\"3931\"},\"x_scale\":{\"id\":\"3935\"},\"y_range\":{\"id\":\"3933\"},\"y_scale\":{\"id\":\"3937\"}},\"id\":\"3930\",\"subtype\":\"Figure\",\"type\":\"Plot\"},{\"attributes\":{\"axis_label\":\"time (sec)\",\"formatter\":{\"id\":\"3970\"},\"major_label_policy\":{\"id\":\"3972\"},\"ticker\":{\"id\":\"3940\"}},\"id\":\"3939\",\"type\":\"LinearAxis\"},{\"attributes\":{},\"id\":\"3972\",\"type\":\"AllLabels\"},{\"attributes\":{},\"id\":\"3951\",\"type\":\"SaveTool\"},{\"attributes\":{\"bottom\":{\"field\":\"bottom\"},\"fill_alpha\":{\"field\":\"fill_alpha\"},\"fill_color\":{\"value\":\"#d53e4f\"},\"left\":{\"field\":\"start_time\"},\"right\":{\"field\":\"end_time\"},\"top\":{\"field\":\"top\"}},\"id\":\"3964\",\"type\":\"Quad\"},{\"attributes\":{\"bottom\":{\"field\":\"bottom\"},\"fill_alpha\":{\"value\":0.1},\"fill_color\":{\"value\":\"#d53e4f\"},\"left\":{\"field\":\"start_time\"},\"line_alpha\":{\"value\":0.1},\"right\":{\"field\":\"end_time\"},\"top\":{\"field\":\"top\"}},\"id\":\"3965\",\"type\":\"Quad\"},{\"attributes\":{\"data_source\":{\"id\":\"3962\"},\"glyph\":{\"id\":\"3964\"},\"hover_glyph\":null,\"muted_glyph\":null,\"nonselection_glyph\":{\"id\":\"3965\"},\"view\":{\"id\":\"3967\"}},\"id\":\"3966\",\"type\":\"GlyphRenderer\"},{\"attributes\":{},\"id\":\"3973\",\"type\":\"BasicTickFormatter\"},{\"attributes\":{\"callback\":null,\"tooltips\":[[\"pitch\",\"@pitch\"],[\"program\",\"@program\"],[\"velo\",\"@velocity\"],[\"duration\",\"@duration\"],[\"start_time\",\"@start_time\"],[\"end_time\",\"@end_time\"],[\"velocity\",\"@velocity\"],[\"fill_alpha\",\"@fill_alpha\"]]},\"id\":\"3947\",\"type\":\"HoverTool\"},{\"attributes\":{},\"id\":\"3970\",\"type\":\"BasicTickFormatter\"},{\"attributes\":{\"data\":{\"bottom\":{\"__ndarray__\":\"zczMzMzMQkDNzMzMzMxEQM3MzMzMTElAzczMzMzMQUDNzMzMzMxEQM3MzMzMzEFAzczMzMzMREDNzMzMzMxBQM3MzMzMzERAzczMzMzMQkDNzMzMzMxBQM3MzMzMzERAzczMzMzMREDNzMzMzMxEQM3MzMzMzEFAzczMzMzMQkDNzMzMzMxEQM3MzMzMzEZAzczMzMzMQUDNzMzMzMxEQM3MzMzMzEFAzczMzMzMREDNzMzMzMxEQM3MzMzMzERAzczMzMzMQUDNzMzMzMxBQM3MzMzMzEJAzczMzMzMQUDNzMzMzMxEQM3MzMzMzEFAzczMzMzMQUDNzMzMzMxEQM3MzMzMzERAzczMzMzMREDNzMzMzMxBQM3MzMzMzEZAzczMzMzMQUDNzMzMzMxCQM3MzMzMzERAzczMzMzMREDNzMzMzMxBQM3MzMzMzERAzczMzMzMRkA=\",\"dtype\":\"float64\",\"order\":\"little\",\"shape\":[43]},\"duration\":{\"__ndarray__\":\"AAAAAAAAwD8AAAAAAADAPwAAAAAAAMA/AAAAAAAAwD8AAAAAAADAPwAAAAAAAMA/AAAAAAAAwD8AAAAAAADAPwAAAAAAAMA/AAAAAAAAwD8AAAAAAADAPwAAAAAAAMA/AAAAAAAAwD8AAAAAAADAPwAAAAAAAMA/AAAAAAAAwD8AAAAAAADAPwAAAAAAAMA/AAAAAAAAwD8AAAAAAADAPwAAAAAAAMA/AAAAAAAAwD8AAAAAAADAPwAAAAAAAMA/AAAAAAAAwD8AAAAAAADAPwAAAAAAAMA/AAAAAAAAwD8AAAAAAADAPwAAAAAAAMA/AAAAAAAAwD8AAAAAAADAPwAAAAAAAMA/AAAAAAAAwD8AAAAAAADAPwAAAAAAAMA/AAAAAAAAwD8AAAAAAADAPwAAAAAAAMA/AAAAAAAAwD8AAAAAAADAPwAAAAAAAMA/AAAAAAAAwD8=\",\"dtype\":\"float64\",\"order\":\"little\",\"shape\":[43]},\"end_time\":{\"__ndarray__\":\"AAAAfJUqwT8AAAA86YnBPwAAAAyIAsE/AAAABa9K1z8AAABDNEPXPwAAkPLu8OM/AAAAf3Km4z8AAADBHgzoPwAAgNmfuus/AAAASTr07z8AAACmQ+HxPwAAQFmD1/E/AAAA2zX08z8AAIBd7NL1PwAAQHvmwvk/AAAAK9PR+T8AAAC5Bs/5PwAAKD9c+/k/AADgLHfs/T8AAFgWN//9PwAAXB6S/ABAAADoBxoHAUAAAIA6SgMCQAAAjDVXAgNAAICsnpb/A0AAAJATl/YEQAAA8MxTCQVAAICCTScABkAAABDSRQgHQAAAYBI2CQhAAADomkj6CEAAAFgZLQIJQAAAeCXrBwpAAACowvP8CkAAAPl2wv8LQAAAlzkU/wtAAAAABb8EDUAAAFCh2QoNQAAAwJD+3AxAAACwfPoKDkAAABAVaAQPQAAAeLtNBQ9AAADHm5L/D0A=\",\"dtype\":\"float64\",\"order\":\"little\",\"shape\":[43]},\"fill_alpha\":{\"__ndarray__\":\"AAAAAAAAkD8AAAAAAADZPwAAAAAAAMw/AAAAAACA7D8AAAAAAIDnPwAAAAAAgNU/AAAAAABA6D8AAAAAAADVPwAAAAAAQOM/AAAAAAAAzj8AAAAAAIDlPwAAAAAAQOY/AAAAAAAAxD8AAAAAAADcPwAAAAAAQOc/AAAAAADA7T8AAAAAAADiPwAAAAAAANI/AAAAAAAA0z8AAAAAAADfPwAAAAAAQOs/AAAAAACA6D8AAAAAAADNPwAAAAAAwOY/AAAAAACA3D8AAAAAAADPPwAAAAAAgO4/AAAAAAAA3j8AAAAAAIDcPwAAAAAAALA/AAAAAABA6D8AAAAAAIDmPwAAAAAAgNc/AAAAAABA5j8AAAAAAIDePwAAAAAAgOg/AAAAAAAAwj8AAAAAAMDuPwAAAAAAAMg/AAAAAAAAwD8AAAAAAAC2PwAAAAAAQOQ/AAAAAACA2T8=\",\"dtype\":\"float64\",\"order\":\"little\",\"shape\":[43]},\"index\":[0,1,2,3,4,5,6,7,8,9,10,11,12,13,14,15,16,17,18,19,20,21,22,23,24,25,26,27,28,29,30,31,32,33,34,35,36,37,38,39,40,41,42],\"instrument\":[9,9,9,9,9,9,9,9,9,9,9,9,9,9,9,9,9,9,9,9,9,9,9,9,9,9,9,9,9,9,9,9,9,9,9,9,9,9,9,9,9,9,9],\"pitch\":[38,42,51,36,42,36,42,36,42,38,36,42,42,42,36,38,42,46,36,42,36,42,42,42,36,36,38,36,42,36,36,42,42,42,36,46,36,38,42,42,36,42,46],\"program\":[0,0,0,0,0,0,0,0,0,0,0,0,0,0,0,0,0,0,0,0,0,0,0,0,0,0,0,0,0,0,0,0,0,0,0,0,0,0,0,0,0,0,0],\"start_time\":{\"__ndarray__\":\"AAAAwFepgj8AAADAk56IPwAAAMCAKIA/AAAACl6Vzj8AAACGaIbOPwAAIOXd4d8/AAAA/uRM3z8AAADBHgzkPwAAgNmfuuc/AAAASTr06z8AAABMh8LvPwAAgLIGr+8/AAAA2zX08T8AAIBd7NLzPwAAQHvmwvc/AAAAK9PR9z8AAAC5Bs/3PwAAKD9c+/c/AADgLHfs+z8AAFgWN//7PwAAuDwk+f8/AADoBxoHAEAAAIA6SgMBQAAAjDVXAgJAAICsnpb/AkAAAJATl/YDQAAA8MxTCQRAAICCTScABUAAABDSRQgGQAAAYBI2CQdAAADomkj6B0AAAFgZLQIIQAAAeCXrBwlAAACowvP8CUAAAPl2wv8KQAAAlzkU/wpAAAAABb8EDEAAAFCh2QoMQAAAwJD+3AtAAACwfPoKDUAAABAVaAQOQAAAeLtNBQ5AAADHm5L/DkA=\",\"dtype\":\"float64\",\"order\":\"little\",\"shape\":[43]},\"top\":{\"__ndarray__\":\"MzMzMzMzQ0AzMzMzMzNFQDMzMzMzs0lAMzMzMzMzQkAzMzMzMzNFQDMzMzMzM0JAMzMzMzMzRUAzMzMzMzNCQDMzMzMzM0VAMzMzMzMzQ0AzMzMzMzNCQDMzMzMzM0VAMzMzMzMzRUAzMzMzMzNFQDMzMzMzM0JAMzMzMzMzQ0AzMzMzMzNFQDMzMzMzM0dAMzMzMzMzQkAzMzMzMzNFQDMzMzMzM0JAMzMzMzMzRUAzMzMzMzNFQDMzMzMzM0VAMzMzMzMzQkAzMzMzMzNCQDMzMzMzM0NAMzMzMzMzQkAzMzMzMzNFQDMzMzMzM0JAMzMzMzMzQkAzMzMzMzNFQDMzMzMzM0VAMzMzMzMzRUAzMzMzMzNCQDMzMzMzM0dAMzMzMzMzQkAzMzMzMzNDQDMzMzMzM0VAMzMzMzMzRUAzMzMzMzNCQDMzMzMzM0VAMzMzMzMzR0A=\",\"dtype\":\"float64\",\"order\":\"little\",\"shape\":[43]},\"velocity\":[2,50,28,114,94,43,97,42,77,30,86,89,20,56,93,119,72,36,38,62,109,98,29,91,57,31,122,60,57,8,97,90,47,89,61,98,18,123,24,16,11,81,51]},\"selected\":{\"id\":\"3976\"},\"selection_policy\":{\"id\":\"3977\"}},\"id\":\"3962\",\"type\":\"ColumnDataSource\"},{\"attributes\":{\"axis_label\":\"pitch (MIDI)\",\"formatter\":{\"id\":\"3973\"},\"major_label_policy\":{\"id\":\"3974\"},\"ticker\":{\"id\":\"3959\"}},\"id\":\"3943\",\"type\":\"LinearAxis\"},{\"attributes\":{},\"id\":\"3937\",\"type\":\"LinearScale\"},{\"attributes\":{},\"id\":\"3976\",\"type\":\"Selection\"},{\"attributes\":{},\"id\":\"3940\",\"type\":\"BasicTicker\"},{\"attributes\":{},\"id\":\"3931\",\"type\":\"DataRange1d\"},{\"attributes\":{\"interval\":12},\"id\":\"3961\",\"type\":\"SingleIntervalTicker\"},{\"attributes\":{\"active_multi\":null,\"tools\":[{\"id\":\"3947\"},{\"id\":\"3948\"},{\"id\":\"3949\"},{\"id\":\"3950\"},{\"id\":\"3951\"}]},\"id\":\"3953\",\"type\":\"Toolbar\"},{\"attributes\":{},\"id\":\"3935\",\"type\":\"LinearScale\"},{\"attributes\":{},\"id\":\"3974\",\"type\":\"AllLabels\"},{\"attributes\":{},\"id\":\"3977\",\"type\":\"UnionRenderers\"},{\"attributes\":{\"axis\":{\"id\":\"3943\"},\"dimension\":1,\"ticker\":{\"id\":\"3961\"}},\"id\":\"3946\",\"type\":\"Grid\"},{\"attributes\":{},\"id\":\"3950\",\"type\":\"ResetTool\"},{\"attributes\":{\"axis\":{\"id\":\"3939\"},\"ticker\":null},\"id\":\"3942\",\"type\":\"Grid\"},{\"attributes\":{},\"id\":\"3933\",\"type\":\"DataRange1d\"},{\"attributes\":{\"bottom_units\":\"screen\",\"fill_alpha\":0.5,\"fill_color\":\"lightgrey\",\"left_units\":\"screen\",\"level\":\"overlay\",\"line_alpha\":1.0,\"line_color\":\"black\",\"line_dash\":[4,4],\"line_width\":2,\"right_units\":\"screen\",\"syncable\":false,\"top_units\":\"screen\"},\"id\":\"3952\",\"type\":\"BoxAnnotation\"},{\"attributes\":{\"source\":{\"id\":\"3962\"}},\"id\":\"3967\",\"type\":\"CDSView\"},{\"attributes\":{},\"id\":\"3969\",\"type\":\"Title\"},{\"attributes\":{},\"id\":\"3948\",\"type\":\"PanTool\"},{\"attributes\":{\"interval\":12},\"id\":\"3959\",\"type\":\"SingleIntervalTicker\"},{\"attributes\":{\"overlay\":{\"id\":\"3952\"}},\"id\":\"3949\",\"type\":\"BoxZoomTool\"}],\"root_ids\":[\"3930\"]},\"title\":\"Bokeh Application\",\"version\":\"2.3.3\"}};\n",
              "  var render_items = [{\"docid\":\"34a7500f-f30f-4ef9-9296-7235c0c038f1\",\"root_ids\":[\"3930\"],\"roots\":{\"3930\":\"aad23864-708a-4537-a46b-0a7fcbc83487\"}}];\n",
              "  root.Bokeh.embed.embed_items_notebook(docs_json, render_items);\n",
              "\n",
              "  }\n",
              "  if (root.Bokeh !== undefined) {\n",
              "    embed_document(root);\n",
              "  } else {\n",
              "    var attempts = 0;\n",
              "    var timer = setInterval(function(root) {\n",
              "      if (root.Bokeh !== undefined) {\n",
              "        clearInterval(timer);\n",
              "        embed_document(root);\n",
              "      } else {\n",
              "        attempts++;\n",
              "        if (attempts > 100) {\n",
              "          clearInterval(timer);\n",
              "          console.log(\"Bokeh: ERROR: Unable to run BokehJS code because BokehJS library is missing\");\n",
              "        }\n",
              "      }\n",
              "    }, 10, root)\n",
              "  }\n",
              "})(window);"
            ],
            "application/vnd.bokehjs_exec.v0+json": ""
          },
          "metadata": {
            "application/vnd.bokehjs_exec.v0+json": {
              "id": "3930"
            }
          }
        },
        {
          "output_type": "display_data",
          "data": {
            "text/plain": [
              "<IPython.core.display.HTML object>"
            ],
            "text/html": [
              "<div id=\"id_24\"> </div>"
            ]
          },
          "metadata": {}
        },
        {
          "output_type": "stream",
          "name": "stdout",
          "text": [
            "\n",
            "\n",
            "\n"
          ]
        }
      ]
    },
    {
      "cell_type": "markdown",
      "source": [
        "### download generated MIDI samples."
      ],
      "metadata": {
        "id": "Pae-fADkIIHK"
      }
    },
    {
      "cell_type": "code",
      "source": [
        "for i, ns in enumerate(drums_samples):\n",
        "    download(ns, '%s_sample_%d.mid' % ('groovae_4bar', i))"
      ],
      "metadata": {
        "colab": {
          "base_uri": "https://localhost:8080/",
          "height": 17
        },
        "id": "r8hqrOL7Wjp4",
        "outputId": "1f0858cf-34c5-4ab1-adf1-c899e4252f18"
      },
      "execution_count": 22,
      "outputs": [
        {
          "output_type": "display_data",
          "data": {
            "text/plain": [
              "<IPython.core.display.Javascript object>"
            ],
            "application/javascript": [
              "\n",
              "    async function download(id, filename, size) {\n",
              "      if (!google.colab.kernel.accessAllowed) {\n",
              "        return;\n",
              "      }\n",
              "      const div = document.createElement('div');\n",
              "      const label = document.createElement('label');\n",
              "      label.textContent = `Downloading \"${filename}\": `;\n",
              "      div.appendChild(label);\n",
              "      const progress = document.createElement('progress');\n",
              "      progress.max = size;\n",
              "      div.appendChild(progress);\n",
              "      document.body.appendChild(div);\n",
              "\n",
              "      const buffers = [];\n",
              "      let downloaded = 0;\n",
              "\n",
              "      const channel = await google.colab.kernel.comms.open(id);\n",
              "      // Send a message to notify the kernel that we're ready.\n",
              "      channel.send({})\n",
              "\n",
              "      for await (const message of channel.messages) {\n",
              "        // Send a message to notify the kernel that we're ready.\n",
              "        channel.send({})\n",
              "        if (message.buffers) {\n",
              "          for (const buffer of message.buffers) {\n",
              "            buffers.push(buffer);\n",
              "            downloaded += buffer.byteLength;\n",
              "            progress.value = downloaded;\n",
              "          }\n",
              "        }\n",
              "      }\n",
              "      const blob = new Blob(buffers, {type: 'application/binary'});\n",
              "      const a = document.createElement('a');\n",
              "      a.href = window.URL.createObjectURL(blob);\n",
              "      a.download = filename;\n",
              "      div.appendChild(a);\n",
              "      a.click();\n",
              "      div.remove();\n",
              "    }\n",
              "  "
            ]
          },
          "metadata": {}
        },
        {
          "output_type": "display_data",
          "data": {
            "text/plain": [
              "<IPython.core.display.Javascript object>"
            ],
            "application/javascript": [
              "download(\"download_5c60a260-20e8-4284-a391-baac7bb3dbfe\", \"groovae_4bar_sample_0.mid\", 342)"
            ]
          },
          "metadata": {}
        },
        {
          "output_type": "display_data",
          "data": {
            "text/plain": [
              "<IPython.core.display.Javascript object>"
            ],
            "application/javascript": [
              "\n",
              "    async function download(id, filename, size) {\n",
              "      if (!google.colab.kernel.accessAllowed) {\n",
              "        return;\n",
              "      }\n",
              "      const div = document.createElement('div');\n",
              "      const label = document.createElement('label');\n",
              "      label.textContent = `Downloading \"${filename}\": `;\n",
              "      div.appendChild(label);\n",
              "      const progress = document.createElement('progress');\n",
              "      progress.max = size;\n",
              "      div.appendChild(progress);\n",
              "      document.body.appendChild(div);\n",
              "\n",
              "      const buffers = [];\n",
              "      let downloaded = 0;\n",
              "\n",
              "      const channel = await google.colab.kernel.comms.open(id);\n",
              "      // Send a message to notify the kernel that we're ready.\n",
              "      channel.send({})\n",
              "\n",
              "      for await (const message of channel.messages) {\n",
              "        // Send a message to notify the kernel that we're ready.\n",
              "        channel.send({})\n",
              "        if (message.buffers) {\n",
              "          for (const buffer of message.buffers) {\n",
              "            buffers.push(buffer);\n",
              "            downloaded += buffer.byteLength;\n",
              "            progress.value = downloaded;\n",
              "          }\n",
              "        }\n",
              "      }\n",
              "      const blob = new Blob(buffers, {type: 'application/binary'});\n",
              "      const a = document.createElement('a');\n",
              "      a.href = window.URL.createObjectURL(blob);\n",
              "      a.download = filename;\n",
              "      div.appendChild(a);\n",
              "      a.click();\n",
              "      div.remove();\n",
              "    }\n",
              "  "
            ]
          },
          "metadata": {}
        },
        {
          "output_type": "display_data",
          "data": {
            "text/plain": [
              "<IPython.core.display.Javascript object>"
            ],
            "application/javascript": [
              "download(\"download_7babf6f2-dc74-4732-be24-5644e0855829\", \"groovae_4bar_sample_1.mid\", 366)"
            ]
          },
          "metadata": {}
        },
        {
          "output_type": "display_data",
          "data": {
            "text/plain": [
              "<IPython.core.display.Javascript object>"
            ],
            "application/javascript": [
              "\n",
              "    async function download(id, filename, size) {\n",
              "      if (!google.colab.kernel.accessAllowed) {\n",
              "        return;\n",
              "      }\n",
              "      const div = document.createElement('div');\n",
              "      const label = document.createElement('label');\n",
              "      label.textContent = `Downloading \"${filename}\": `;\n",
              "      div.appendChild(label);\n",
              "      const progress = document.createElement('progress');\n",
              "      progress.max = size;\n",
              "      div.appendChild(progress);\n",
              "      document.body.appendChild(div);\n",
              "\n",
              "      const buffers = [];\n",
              "      let downloaded = 0;\n",
              "\n",
              "      const channel = await google.colab.kernel.comms.open(id);\n",
              "      // Send a message to notify the kernel that we're ready.\n",
              "      channel.send({})\n",
              "\n",
              "      for await (const message of channel.messages) {\n",
              "        // Send a message to notify the kernel that we're ready.\n",
              "        channel.send({})\n",
              "        if (message.buffers) {\n",
              "          for (const buffer of message.buffers) {\n",
              "            buffers.push(buffer);\n",
              "            downloaded += buffer.byteLength;\n",
              "            progress.value = downloaded;\n",
              "          }\n",
              "        }\n",
              "      }\n",
              "      const blob = new Blob(buffers, {type: 'application/binary'});\n",
              "      const a = document.createElement('a');\n",
              "      a.href = window.URL.createObjectURL(blob);\n",
              "      a.download = filename;\n",
              "      div.appendChild(a);\n",
              "      a.click();\n",
              "      div.remove();\n",
              "    }\n",
              "  "
            ]
          },
          "metadata": {}
        },
        {
          "output_type": "display_data",
          "data": {
            "text/plain": [
              "<IPython.core.display.Javascript object>"
            ],
            "application/javascript": [
              "download(\"download_ffa2e9e4-27aa-483b-9576-4c7b922a6869\", \"groovae_4bar_sample_2.mid\", 225)"
            ]
          },
          "metadata": {}
        },
        {
          "output_type": "display_data",
          "data": {
            "text/plain": [
              "<IPython.core.display.Javascript object>"
            ],
            "application/javascript": [
              "\n",
              "    async function download(id, filename, size) {\n",
              "      if (!google.colab.kernel.accessAllowed) {\n",
              "        return;\n",
              "      }\n",
              "      const div = document.createElement('div');\n",
              "      const label = document.createElement('label');\n",
              "      label.textContent = `Downloading \"${filename}\": `;\n",
              "      div.appendChild(label);\n",
              "      const progress = document.createElement('progress');\n",
              "      progress.max = size;\n",
              "      div.appendChild(progress);\n",
              "      document.body.appendChild(div);\n",
              "\n",
              "      const buffers = [];\n",
              "      let downloaded = 0;\n",
              "\n",
              "      const channel = await google.colab.kernel.comms.open(id);\n",
              "      // Send a message to notify the kernel that we're ready.\n",
              "      channel.send({})\n",
              "\n",
              "      for await (const message of channel.messages) {\n",
              "        // Send a message to notify the kernel that we're ready.\n",
              "        channel.send({})\n",
              "        if (message.buffers) {\n",
              "          for (const buffer of message.buffers) {\n",
              "            buffers.push(buffer);\n",
              "            downloaded += buffer.byteLength;\n",
              "            progress.value = downloaded;\n",
              "          }\n",
              "        }\n",
              "      }\n",
              "      const blob = new Blob(buffers, {type: 'application/binary'});\n",
              "      const a = document.createElement('a');\n",
              "      a.href = window.URL.createObjectURL(blob);\n",
              "      a.download = filename;\n",
              "      div.appendChild(a);\n",
              "      a.click();\n",
              "      div.remove();\n",
              "    }\n",
              "  "
            ]
          },
          "metadata": {}
        },
        {
          "output_type": "display_data",
          "data": {
            "text/plain": [
              "<IPython.core.display.Javascript object>"
            ],
            "application/javascript": [
              "download(\"download_46d7fa09-14cd-411f-9b5e-7d7b7a09294c\", \"groovae_4bar_sample_3.mid\", 330)"
            ]
          },
          "metadata": {}
        }
      ]
    }
  ]
}